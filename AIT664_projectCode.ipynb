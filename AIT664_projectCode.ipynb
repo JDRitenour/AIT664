{
 "cells": [
  {
   "cell_type": "code",
   "execution_count": 228,
   "metadata": {},
   "outputs": [],
   "source": [
    "import pandas as pd\n",
    "import numpy as np\n",
    "\n",
    "import matplotlib.mlab as mlab\n",
    "import matplotlib.pyplot as plt\n",
    "from importlib import reload\n",
    "\n",
    "import nltk \n",
    "from nltk.tokenize import sent_tokenize, word_tokenize\n",
    "from nltk.corpus import stopwords\n",
    "from nltk.sentiment import SentimentIntensityAnalyzer\n",
    "\n",
    "from sklearn.feature_extraction.text import CountVectorizer\n",
    "from sklearn.decomposition import NMF, LatentDirichletAllocation\n",
    "\n",
    "from wordcloud import WordCloud, ImageColorGenerator\n",
    "\n",
    "import seaborn as sns\n",
    "\n",
    "from sklearn.utils import resample\n",
    "from sklearn.model_selection import train_test_split, cross_val_score\n",
    "from sklearn.neighbors import KNeighborsClassifier\n",
    "from sklearn.metrics import accuracy_score, confusion_matrix, precision_score, recall_score, ConfusionMatrixDisplay\n",
    "from sklearn.preprocessing import StandardScaler"
   ]
  },
  {
   "cell_type": "code",
   "execution_count": 2,
   "metadata": {},
   "outputs": [],
   "source": [
    "#load the Disneyland Reviews file\n",
    "df = pd.read_csv('DisneylandReviews.csv')"
   ]
  },
  {
   "cell_type": "code",
   "execution_count": 3,
   "metadata": {},
   "outputs": [
    {
     "data": {
      "text/html": [
       "<div>\n",
       "<style scoped>\n",
       "    .dataframe tbody tr th:only-of-type {\n",
       "        vertical-align: middle;\n",
       "    }\n",
       "\n",
       "    .dataframe tbody tr th {\n",
       "        vertical-align: top;\n",
       "    }\n",
       "\n",
       "    .dataframe thead th {\n",
       "        text-align: right;\n",
       "    }\n",
       "</style>\n",
       "<table border=\"1\" class=\"dataframe\">\n",
       "  <thead>\n",
       "    <tr style=\"text-align: right;\">\n",
       "      <th></th>\n",
       "      <th>Review_ID</th>\n",
       "      <th>Rating</th>\n",
       "      <th>Year_Month</th>\n",
       "      <th>Reviewer_Location</th>\n",
       "      <th>Review_Text</th>\n",
       "      <th>Branch</th>\n",
       "    </tr>\n",
       "  </thead>\n",
       "  <tbody>\n",
       "    <tr>\n",
       "      <th>0</th>\n",
       "      <td>670772142</td>\n",
       "      <td>4</td>\n",
       "      <td>2019-4</td>\n",
       "      <td>Australia</td>\n",
       "      <td>If you've ever been to Disneyland anywhere you...</td>\n",
       "      <td>Disneyland_HongKong</td>\n",
       "    </tr>\n",
       "    <tr>\n",
       "      <th>1</th>\n",
       "      <td>670682799</td>\n",
       "      <td>4</td>\n",
       "      <td>2019-5</td>\n",
       "      <td>Philippines</td>\n",
       "      <td>Its been a while since d last time we visit HK...</td>\n",
       "      <td>Disneyland_HongKong</td>\n",
       "    </tr>\n",
       "    <tr>\n",
       "      <th>2</th>\n",
       "      <td>670623270</td>\n",
       "      <td>4</td>\n",
       "      <td>2019-4</td>\n",
       "      <td>United Arab Emirates</td>\n",
       "      <td>Thanks God it wasn   t too hot or too humid wh...</td>\n",
       "      <td>Disneyland_HongKong</td>\n",
       "    </tr>\n",
       "    <tr>\n",
       "      <th>3</th>\n",
       "      <td>670607911</td>\n",
       "      <td>4</td>\n",
       "      <td>2019-4</td>\n",
       "      <td>Australia</td>\n",
       "      <td>HK Disneyland is a great compact park. Unfortu...</td>\n",
       "      <td>Disneyland_HongKong</td>\n",
       "    </tr>\n",
       "    <tr>\n",
       "      <th>4</th>\n",
       "      <td>670607296</td>\n",
       "      <td>4</td>\n",
       "      <td>2019-4</td>\n",
       "      <td>United Kingdom</td>\n",
       "      <td>the location is not in the city, took around 1...</td>\n",
       "      <td>Disneyland_HongKong</td>\n",
       "    </tr>\n",
       "  </tbody>\n",
       "</table>\n",
       "</div>"
      ],
      "text/plain": [
       "   Review_ID  Rating Year_Month     Reviewer_Location  \\\n",
       "0  670772142       4     2019-4             Australia   \n",
       "1  670682799       4     2019-5           Philippines   \n",
       "2  670623270       4     2019-4  United Arab Emirates   \n",
       "3  670607911       4     2019-4             Australia   \n",
       "4  670607296       4     2019-4        United Kingdom   \n",
       "\n",
       "                                         Review_Text               Branch  \n",
       "0  If you've ever been to Disneyland anywhere you...  Disneyland_HongKong  \n",
       "1  Its been a while since d last time we visit HK...  Disneyland_HongKong  \n",
       "2  Thanks God it wasn   t too hot or too humid wh...  Disneyland_HongKong  \n",
       "3  HK Disneyland is a great compact park. Unfortu...  Disneyland_HongKong  \n",
       "4  the location is not in the city, took around 1...  Disneyland_HongKong  "
      ]
     },
     "execution_count": 3,
     "metadata": {},
     "output_type": "execute_result"
    }
   ],
   "source": [
    "#call the first five row to ensure the data loaded properly\n",
    "df.head()"
   ]
  },
  {
   "cell_type": "code",
   "execution_count": 4,
   "metadata": {},
   "outputs": [
    {
     "data": {
      "text/plain": [
       "Review_ID            42656\n",
       "Rating               42656\n",
       "Year_Month           42656\n",
       "Reviewer_Location    42656\n",
       "Review_Text          42656\n",
       "Branch               42656\n",
       "dtype: int64"
      ]
     },
     "execution_count": 4,
     "metadata": {},
     "output_type": "execute_result"
    }
   ],
   "source": [
    "#the number of records\n",
    "df.count()"
   ]
  },
  {
   "cell_type": "code",
   "execution_count": 5,
   "metadata": {},
   "outputs": [
    {
     "data": {
      "text/plain": [
       "Review_ID            42636\n",
       "Rating                   5\n",
       "Year_Month             112\n",
       "Reviewer_Location      162\n",
       "Review_Text          42632\n",
       "Branch                   3\n",
       "dtype: int64"
      ]
     },
     "execution_count": 5,
     "metadata": {},
     "output_type": "execute_result"
    }
   ],
   "source": [
    "#the number of distinct records in each column\n",
    "df.nunique()"
   ]
  },
  {
   "cell_type": "code",
   "execution_count": 6,
   "metadata": {},
   "outputs": [],
   "source": [
    "#drop duplicates from the Review_Text\n",
    "df.drop_duplicates(subset='Review_Text', inplace=True, ignore_index=True)"
   ]
  },
  {
   "cell_type": "code",
   "execution_count": 7,
   "metadata": {},
   "outputs": [
    {
     "data": {
      "text/plain": [
       "Review_ID            42632\n",
       "Rating               42632\n",
       "Year_Month           42632\n",
       "Reviewer_Location    42632\n",
       "Review_Text          42632\n",
       "Branch               42632\n",
       "dtype: int64"
      ]
     },
     "execution_count": 7,
     "metadata": {},
     "output_type": "execute_result"
    }
   ],
   "source": [
    "#recheck the number of records after duplicates have been removed\n",
    "df.count()"
   ]
  },
  {
   "cell_type": "code",
   "execution_count": 8,
   "metadata": {},
   "outputs": [
    {
     "data": {
      "text/plain": [
       "Review_ID            42624\n",
       "Rating                   5\n",
       "Year_Month             112\n",
       "Reviewer_Location      162\n",
       "Review_Text          42632\n",
       "Branch                   3\n",
       "dtype: int64"
      ]
     },
     "execution_count": 8,
     "metadata": {},
     "output_type": "execute_result"
    }
   ],
   "source": [
    "#the number of distinct records in each column\n",
    "df.nunique()"
   ]
  },
  {
   "cell_type": "code",
   "execution_count": 9,
   "metadata": {},
   "outputs": [
    {
     "data": {
      "text/html": [
       "<div>\n",
       "<style scoped>\n",
       "    .dataframe tbody tr th:only-of-type {\n",
       "        vertical-align: middle;\n",
       "    }\n",
       "\n",
       "    .dataframe tbody tr th {\n",
       "        vertical-align: top;\n",
       "    }\n",
       "\n",
       "    .dataframe thead th {\n",
       "        text-align: right;\n",
       "    }\n",
       "</style>\n",
       "<table border=\"1\" class=\"dataframe\">\n",
       "  <thead>\n",
       "    <tr style=\"text-align: right;\">\n",
       "      <th></th>\n",
       "      <th>Review_ID</th>\n",
       "      <th>Rating</th>\n",
       "      <th>Year_Month</th>\n",
       "      <th>Reviewer_Location</th>\n",
       "      <th>Review_Text</th>\n",
       "      <th>Branch</th>\n",
       "    </tr>\n",
       "  </thead>\n",
       "  <tbody>\n",
       "    <tr>\n",
       "      <th>9165</th>\n",
       "      <td>121615136</td>\n",
       "      <td>5</td>\n",
       "      <td>2011-12</td>\n",
       "      <td>Singapore</td>\n",
       "      <td>What's there not to like about Disneyland, esp...</td>\n",
       "      <td>Disneyland_HongKong</td>\n",
       "    </tr>\n",
       "    <tr>\n",
       "      <th>9175</th>\n",
       "      <td>121615136</td>\n",
       "      <td>5</td>\n",
       "      <td>2011-12</td>\n",
       "      <td>Singapore</td>\n",
       "      <td>What's there not to like about Disneyland, esp...</td>\n",
       "      <td>Disneyland_HongKong</td>\n",
       "    </tr>\n",
       "    <tr>\n",
       "      <th>9164</th>\n",
       "      <td>121615246</td>\n",
       "      <td>4</td>\n",
       "      <td>2011-12</td>\n",
       "      <td>India</td>\n",
       "      <td>I visited Hong Kong Disneyland with my family ...</td>\n",
       "      <td>Disneyland_HongKong</td>\n",
       "    </tr>\n",
       "    <tr>\n",
       "      <th>9174</th>\n",
       "      <td>121615246</td>\n",
       "      <td>4</td>\n",
       "      <td>2011-12</td>\n",
       "      <td>India</td>\n",
       "      <td>I visited Hong Kong Disneyland with my family ...</td>\n",
       "      <td>Disneyland_HongKong</td>\n",
       "    </tr>\n",
       "    <tr>\n",
       "      <th>7938</th>\n",
       "      <td>164830205</td>\n",
       "      <td>3</td>\n",
       "      <td>2012-7</td>\n",
       "      <td>United States</td>\n",
       "      <td>If you've visited DisneyWorld in Orlando, your...</td>\n",
       "      <td>Disneyland_HongKong</td>\n",
       "    </tr>\n",
       "    <tr>\n",
       "      <th>7947</th>\n",
       "      <td>164830205</td>\n",
       "      <td>3</td>\n",
       "      <td>2012-7</td>\n",
       "      <td>United States</td>\n",
       "      <td>If you've visited DisneyWorld in Orlando, your...</td>\n",
       "      <td>Disneyland_HongKong</td>\n",
       "    </tr>\n",
       "    <tr>\n",
       "      <th>24004</th>\n",
       "      <td>166730734</td>\n",
       "      <td>3</td>\n",
       "      <td>2013-3</td>\n",
       "      <td>Australia</td>\n",
       "      <td>I say that I was a little disappointed by Disn...</td>\n",
       "      <td>Disneyland_California</td>\n",
       "    </tr>\n",
       "    <tr>\n",
       "      <th>24010</th>\n",
       "      <td>166730734</td>\n",
       "      <td>3</td>\n",
       "      <td>2013-3</td>\n",
       "      <td>Australia</td>\n",
       "      <td>I say that I was a little disappointed by Disn...</td>\n",
       "      <td>Disneyland_California</td>\n",
       "    </tr>\n",
       "    <tr>\n",
       "      <th>24003</th>\n",
       "      <td>166753649</td>\n",
       "      <td>5</td>\n",
       "      <td>2013-7</td>\n",
       "      <td>United States</td>\n",
       "      <td>Went to Disneyland and California Adventure on...</td>\n",
       "      <td>Disneyland_California</td>\n",
       "    </tr>\n",
       "    <tr>\n",
       "      <th>24009</th>\n",
       "      <td>166753649</td>\n",
       "      <td>5</td>\n",
       "      <td>2013-7</td>\n",
       "      <td>United States</td>\n",
       "      <td>Went to Disneyland and California Adventure on...</td>\n",
       "      <td>Disneyland_California</td>\n",
       "    </tr>\n",
       "    <tr>\n",
       "      <th>24000</th>\n",
       "      <td>166787525</td>\n",
       "      <td>4</td>\n",
       "      <td>2013-7</td>\n",
       "      <td>Ireland</td>\n",
       "      <td>Was great. Disney could have done a better cro...</td>\n",
       "      <td>Disneyland_California</td>\n",
       "    </tr>\n",
       "    <tr>\n",
       "      <th>24008</th>\n",
       "      <td>166787525</td>\n",
       "      <td>4</td>\n",
       "      <td>2013-7</td>\n",
       "      <td>Ireland</td>\n",
       "      <td>Was great. Disney could have done a better cro...</td>\n",
       "      <td>Disneyland_California</td>\n",
       "    </tr>\n",
       "    <tr>\n",
       "      <th>23999</th>\n",
       "      <td>166787635</td>\n",
       "      <td>5</td>\n",
       "      <td>2013-7</td>\n",
       "      <td>United States</td>\n",
       "      <td>Disneyland is super fun. There's not much to b...</td>\n",
       "      <td>Disneyland_California</td>\n",
       "    </tr>\n",
       "    <tr>\n",
       "      <th>24007</th>\n",
       "      <td>166787635</td>\n",
       "      <td>5</td>\n",
       "      <td>2013-7</td>\n",
       "      <td>United States</td>\n",
       "      <td>Disneyland is super fun.  There's not much to ...</td>\n",
       "      <td>Disneyland_California</td>\n",
       "    </tr>\n",
       "    <tr>\n",
       "      <th>7856</th>\n",
       "      <td>168489234</td>\n",
       "      <td>4</td>\n",
       "      <td>2013-1</td>\n",
       "      <td>Malaysia</td>\n",
       "      <td>Reading reviews here, I was really skeptical  ...</td>\n",
       "      <td>Disneyland_HongKong</td>\n",
       "    </tr>\n",
       "    <tr>\n",
       "      <th>7865</th>\n",
       "      <td>168489234</td>\n",
       "      <td>4</td>\n",
       "      <td>2013-1</td>\n",
       "      <td>Malaysia</td>\n",
       "      <td>Reading reviews here, I was really skeptical  ...</td>\n",
       "      <td>Disneyland_HongKong</td>\n",
       "    </tr>\n",
       "  </tbody>\n",
       "</table>\n",
       "</div>"
      ],
      "text/plain": [
       "       Review_ID  Rating Year_Month Reviewer_Location  \\\n",
       "9165   121615136       5    2011-12         Singapore   \n",
       "9175   121615136       5    2011-12         Singapore   \n",
       "9164   121615246       4    2011-12             India   \n",
       "9174   121615246       4    2011-12             India   \n",
       "7938   164830205       3     2012-7     United States   \n",
       "7947   164830205       3     2012-7     United States   \n",
       "24004  166730734       3     2013-3         Australia   \n",
       "24010  166730734       3     2013-3         Australia   \n",
       "24003  166753649       5     2013-7     United States   \n",
       "24009  166753649       5     2013-7     United States   \n",
       "24000  166787525       4     2013-7           Ireland   \n",
       "24008  166787525       4     2013-7           Ireland   \n",
       "23999  166787635       5     2013-7     United States   \n",
       "24007  166787635       5     2013-7     United States   \n",
       "7856   168489234       4     2013-1          Malaysia   \n",
       "7865   168489234       4     2013-1          Malaysia   \n",
       "\n",
       "                                             Review_Text  \\\n",
       "9165   What's there not to like about Disneyland, esp...   \n",
       "9175   What's there not to like about Disneyland, esp...   \n",
       "9164   I visited Hong Kong Disneyland with my family ...   \n",
       "9174   I visited Hong Kong Disneyland with my family ...   \n",
       "7938   If you've visited DisneyWorld in Orlando, your...   \n",
       "7947   If you've visited DisneyWorld in Orlando, your...   \n",
       "24004  I say that I was a little disappointed by Disn...   \n",
       "24010  I say that I was a little disappointed by Disn...   \n",
       "24003  Went to Disneyland and California Adventure on...   \n",
       "24009  Went to Disneyland and California Adventure on...   \n",
       "24000  Was great. Disney could have done a better cro...   \n",
       "24008  Was great. Disney could have done a better cro...   \n",
       "23999  Disneyland is super fun. There's not much to b...   \n",
       "24007  Disneyland is super fun.  There's not much to ...   \n",
       "7856   Reading reviews here, I was really skeptical  ...   \n",
       "7865   Reading reviews here, I was really skeptical  ...   \n",
       "\n",
       "                      Branch  \n",
       "9165     Disneyland_HongKong  \n",
       "9175     Disneyland_HongKong  \n",
       "9164     Disneyland_HongKong  \n",
       "9174     Disneyland_HongKong  \n",
       "7938     Disneyland_HongKong  \n",
       "7947     Disneyland_HongKong  \n",
       "24004  Disneyland_California  \n",
       "24010  Disneyland_California  \n",
       "24003  Disneyland_California  \n",
       "24009  Disneyland_California  \n",
       "24000  Disneyland_California  \n",
       "24008  Disneyland_California  \n",
       "23999  Disneyland_California  \n",
       "24007  Disneyland_California  \n",
       "7856     Disneyland_HongKong  \n",
       "7865     Disneyland_HongKong  "
      ]
     },
     "execution_count": 9,
     "metadata": {},
     "output_type": "execute_result"
    }
   ],
   "source": [
    "#Determine if the duplicates in Review_ID are actually duplicated records   \n",
    "df[df['Review_ID'].duplicated(keep=False)].sort_values('Review_ID')"
   ]
  },
  {
   "cell_type": "code",
   "execution_count": 10,
   "metadata": {},
   "outputs": [],
   "source": [
    "#drop duplicates from the Review_ID\n",
    "df.drop_duplicates(subset='Review_ID', inplace=True, ignore_index=True)"
   ]
  },
  {
   "cell_type": "code",
   "execution_count": 11,
   "metadata": {},
   "outputs": [
    {
     "data": {
      "text/plain": [
       "Review_ID            42624\n",
       "Rating               42624\n",
       "Year_Month           42624\n",
       "Reviewer_Location    42624\n",
       "Review_Text          42624\n",
       "Branch               42624\n",
       "dtype: int64"
      ]
     },
     "execution_count": 11,
     "metadata": {},
     "output_type": "execute_result"
    }
   ],
   "source": [
    "#recheck the number of records after duplicates have been removed\n",
    "df.count()"
   ]
  },
  {
   "cell_type": "code",
   "execution_count": 12,
   "metadata": {},
   "outputs": [
    {
     "data": {
      "text/plain": [
       "Review_ID            0\n",
       "Rating               0\n",
       "Year_Month           0\n",
       "Reviewer_Location    0\n",
       "Review_Text          0\n",
       "Branch               0\n",
       "dtype: int64"
      ]
     },
     "execution_count": 12,
     "metadata": {},
     "output_type": "execute_result"
    }
   ],
   "source": [
    "#number of records with missing data\n",
    "df.isnull().sum()"
   ]
  },
  {
   "cell_type": "code",
   "execution_count": 13,
   "metadata": {},
   "outputs": [
    {
     "data": {
      "text/html": [
       "<div>\n",
       "<style scoped>\n",
       "    .dataframe tbody tr th:only-of-type {\n",
       "        vertical-align: middle;\n",
       "    }\n",
       "\n",
       "    .dataframe tbody tr th {\n",
       "        vertical-align: top;\n",
       "    }\n",
       "\n",
       "    .dataframe thead th {\n",
       "        text-align: right;\n",
       "    }\n",
       "</style>\n",
       "<table border=\"1\" class=\"dataframe\">\n",
       "  <thead>\n",
       "    <tr style=\"text-align: right;\">\n",
       "      <th></th>\n",
       "      <th>Year_Month</th>\n",
       "      <th>Reviewer_Location</th>\n",
       "      <th>Branch</th>\n",
       "    </tr>\n",
       "  </thead>\n",
       "  <tbody>\n",
       "    <tr>\n",
       "      <th>count</th>\n",
       "      <td>42624</td>\n",
       "      <td>42624</td>\n",
       "      <td>42624</td>\n",
       "    </tr>\n",
       "    <tr>\n",
       "      <th>unique</th>\n",
       "      <td>112</td>\n",
       "      <td>162</td>\n",
       "      <td>3</td>\n",
       "    </tr>\n",
       "    <tr>\n",
       "      <th>top</th>\n",
       "      <td>missing</td>\n",
       "      <td>United States</td>\n",
       "      <td>Disneyland_California</td>\n",
       "    </tr>\n",
       "    <tr>\n",
       "      <th>freq</th>\n",
       "      <td>2610</td>\n",
       "      <td>14536</td>\n",
       "      <td>19395</td>\n",
       "    </tr>\n",
       "  </tbody>\n",
       "</table>\n",
       "</div>"
      ],
      "text/plain": [
       "       Year_Month Reviewer_Location                 Branch\n",
       "count       42624             42624                  42624\n",
       "unique        112               162                      3\n",
       "top       missing     United States  Disneyland_California\n",
       "freq         2610             14536                  19395"
      ]
     },
     "execution_count": 13,
     "metadata": {},
     "output_type": "execute_result"
    }
   ],
   "source": [
    "df[['Year_Month', 'Reviewer_Location', 'Branch']].describe()"
   ]
  },
  {
   "cell_type": "code",
   "execution_count": 14,
   "metadata": {},
   "outputs": [
    {
     "data": {
      "text/plain": [
       "Index(['Review_ID', 'Rating', 'Year_Month', 'Reviewer_Location', 'Review_Text',\n",
       "       'Branch'],\n",
       "      dtype='object')"
      ]
     },
     "execution_count": 14,
     "metadata": {},
     "output_type": "execute_result"
    }
   ],
   "source": [
    "df.columns"
   ]
  },
  {
   "cell_type": "code",
   "execution_count": 15,
   "metadata": {},
   "outputs": [
    {
     "name": "stdout",
     "output_type": "stream",
     "text": [
      "0\n",
      "0\n",
      "2610\n",
      "0\n",
      "0\n",
      "0\n"
     ]
    }
   ],
   "source": [
    "#find the number of missing values in each column\n",
    "print(df[df['Review_ID'] == 'missing']['Review_ID'].count())\n",
    "print(df[df['Rating'] == 'missing']['Review_ID'].count())\n",
    "print(df[df['Year_Month'] == 'missing']['Review_ID'].count())\n",
    "print(df[df['Reviewer_Location'] == 'missing']['Review_ID'].count())\n",
    "print(df[df['Review_Text'] == 'missing']['Review_ID'].count())\n",
    "print(df[df['Branch'] == 'missing']['Review_ID'].count())"
   ]
  },
  {
   "cell_type": "code",
   "execution_count": 16,
   "metadata": {},
   "outputs": [
    {
     "data": {
      "text/plain": [
       "Branch\n",
       "Disneyland_California    19395\n",
       "Disneyland_HongKong       9602\n",
       "Disneyland_Paris         13627\n",
       "Name: Review_ID, dtype: int64"
      ]
     },
     "execution_count": 16,
     "metadata": {},
     "output_type": "execute_result"
    }
   ],
   "source": [
    "df.groupby('Branch')['Review_ID'].count()"
   ]
  },
  {
   "cell_type": "code",
   "execution_count": 17,
   "metadata": {},
   "outputs": [
    {
     "data": {
      "text/plain": [
       "Branch\n",
       "Disneyland_California    1203\n",
       "Disneyland_HongKong       471\n",
       "Disneyland_Paris          936\n",
       "Name: Review_ID, dtype: int64"
      ]
     },
     "execution_count": 17,
     "metadata": {},
     "output_type": "execute_result"
    }
   ],
   "source": [
    "df[df['Year_Month'] == 'missing'].groupby('Branch')['Review_ID'].count()"
   ]
  },
  {
   "cell_type": "code",
   "execution_count": 18,
   "metadata": {},
   "outputs": [
    {
     "name": "stdout",
     "output_type": "stream",
     "text": [
      "0.0618705035971223\n",
      "0.04916839916839917\n",
      "0.06867204695524579\n",
      "0.06125750187546887\n"
     ]
    }
   ],
   "source": [
    "#dates not missing in each branch\n",
    "print(1204/19460)\n",
    "print(473/9620)\n",
    "print(936/13630)\n",
    "print((1204+473+936)/42656)"
   ]
  },
  {
   "cell_type": "code",
   "execution_count": 19,
   "metadata": {},
   "outputs": [],
   "source": [
    "#remove records where date is missing\n",
    "df_cleaned = df[df['Year_Month'] != 'missing'].reset_index(drop=True)"
   ]
  },
  {
   "cell_type": "code",
   "execution_count": 20,
   "metadata": {},
   "outputs": [
    {
     "data": {
      "text/plain": [
       "Review_ID            40014\n",
       "Rating               40014\n",
       "Year_Month           40014\n",
       "Reviewer_Location    40014\n",
       "Review_Text          40014\n",
       "Branch               40014\n",
       "dtype: int64"
      ]
     },
     "execution_count": 20,
     "metadata": {},
     "output_type": "execute_result"
    }
   ],
   "source": [
    "df_cleaned.count()"
   ]
  },
  {
   "cell_type": "code",
   "execution_count": 21,
   "metadata": {},
   "outputs": [],
   "source": [
    "df_cleaned['Branch'] = df_cleaned['Branch'].str.replace('Disneyland_', '')"
   ]
  },
  {
   "cell_type": "code",
   "execution_count": 22,
   "metadata": {},
   "outputs": [
    {
     "data": {
      "text/html": [
       "<div>\n",
       "<style scoped>\n",
       "    .dataframe tbody tr th:only-of-type {\n",
       "        vertical-align: middle;\n",
       "    }\n",
       "\n",
       "    .dataframe tbody tr th {\n",
       "        vertical-align: top;\n",
       "    }\n",
       "\n",
       "    .dataframe thead th {\n",
       "        text-align: right;\n",
       "    }\n",
       "</style>\n",
       "<table border=\"1\" class=\"dataframe\">\n",
       "  <thead>\n",
       "    <tr style=\"text-align: right;\">\n",
       "      <th></th>\n",
       "      <th>Review_ID</th>\n",
       "      <th>Rating</th>\n",
       "      <th>Year_Month</th>\n",
       "      <th>Reviewer_Location</th>\n",
       "      <th>Review_Text</th>\n",
       "      <th>Branch</th>\n",
       "    </tr>\n",
       "  </thead>\n",
       "  <tbody>\n",
       "    <tr>\n",
       "      <th>0</th>\n",
       "      <td>670772142</td>\n",
       "      <td>4</td>\n",
       "      <td>2019-4</td>\n",
       "      <td>Australia</td>\n",
       "      <td>If you've ever been to Disneyland anywhere you...</td>\n",
       "      <td>HongKong</td>\n",
       "    </tr>\n",
       "    <tr>\n",
       "      <th>1</th>\n",
       "      <td>670682799</td>\n",
       "      <td>4</td>\n",
       "      <td>2019-5</td>\n",
       "      <td>Philippines</td>\n",
       "      <td>Its been a while since d last time we visit HK...</td>\n",
       "      <td>HongKong</td>\n",
       "    </tr>\n",
       "    <tr>\n",
       "      <th>2</th>\n",
       "      <td>670623270</td>\n",
       "      <td>4</td>\n",
       "      <td>2019-4</td>\n",
       "      <td>United Arab Emirates</td>\n",
       "      <td>Thanks God it wasn   t too hot or too humid wh...</td>\n",
       "      <td>HongKong</td>\n",
       "    </tr>\n",
       "    <tr>\n",
       "      <th>3</th>\n",
       "      <td>670607911</td>\n",
       "      <td>4</td>\n",
       "      <td>2019-4</td>\n",
       "      <td>Australia</td>\n",
       "      <td>HK Disneyland is a great compact park. Unfortu...</td>\n",
       "      <td>HongKong</td>\n",
       "    </tr>\n",
       "    <tr>\n",
       "      <th>4</th>\n",
       "      <td>670607296</td>\n",
       "      <td>4</td>\n",
       "      <td>2019-4</td>\n",
       "      <td>United Kingdom</td>\n",
       "      <td>the location is not in the city, took around 1...</td>\n",
       "      <td>HongKong</td>\n",
       "    </tr>\n",
       "  </tbody>\n",
       "</table>\n",
       "</div>"
      ],
      "text/plain": [
       "   Review_ID  Rating Year_Month     Reviewer_Location  \\\n",
       "0  670772142       4     2019-4             Australia   \n",
       "1  670682799       4     2019-5           Philippines   \n",
       "2  670623270       4     2019-4  United Arab Emirates   \n",
       "3  670607911       4     2019-4             Australia   \n",
       "4  670607296       4     2019-4        United Kingdom   \n",
       "\n",
       "                                         Review_Text    Branch  \n",
       "0  If you've ever been to Disneyland anywhere you...  HongKong  \n",
       "1  Its been a while since d last time we visit HK...  HongKong  \n",
       "2  Thanks God it wasn   t too hot or too humid wh...  HongKong  \n",
       "3  HK Disneyland is a great compact park. Unfortu...  HongKong  \n",
       "4  the location is not in the city, took around 1...  HongKong  "
      ]
     },
     "execution_count": 22,
     "metadata": {},
     "output_type": "execute_result"
    }
   ],
   "source": [
    "df_cleaned.head()"
   ]
  },
  {
   "cell_type": "code",
   "execution_count": 23,
   "metadata": {},
   "outputs": [],
   "source": [
    "df_cleaned['Year'] = ''"
   ]
  },
  {
   "cell_type": "code",
   "execution_count": 24,
   "metadata": {},
   "outputs": [
    {
     "name": "stderr",
     "output_type": "stream",
     "text": [
      "<ipython-input-24-ef56037adcd1>:2: SettingWithCopyWarning: \n",
      "A value is trying to be set on a copy of a slice from a DataFrame\n",
      "\n",
      "See the caveats in the documentation: https://pandas.pydata.org/pandas-docs/stable/user_guide/indexing.html#returning-a-view-versus-a-copy\n",
      "  df_cleaned['Year'][i] = df_cleaned['Year_Month'][i][0:4]\n"
     ]
    }
   ],
   "source": [
    "for i in range(len(df_cleaned)):\n",
    "    df_cleaned['Year'][i] = df_cleaned['Year_Month'][i][0:4]"
   ]
  },
  {
   "cell_type": "code",
   "execution_count": 25,
   "metadata": {},
   "outputs": [
    {
     "data": {
      "text/html": [
       "<div>\n",
       "<style scoped>\n",
       "    .dataframe tbody tr th:only-of-type {\n",
       "        vertical-align: middle;\n",
       "    }\n",
       "\n",
       "    .dataframe tbody tr th {\n",
       "        vertical-align: top;\n",
       "    }\n",
       "\n",
       "    .dataframe thead th {\n",
       "        text-align: right;\n",
       "    }\n",
       "</style>\n",
       "<table border=\"1\" class=\"dataframe\">\n",
       "  <thead>\n",
       "    <tr style=\"text-align: right;\">\n",
       "      <th></th>\n",
       "      <th>Review_ID</th>\n",
       "      <th>Rating</th>\n",
       "      <th>Year_Month</th>\n",
       "      <th>Reviewer_Location</th>\n",
       "      <th>Review_Text</th>\n",
       "      <th>Branch</th>\n",
       "      <th>Year</th>\n",
       "    </tr>\n",
       "  </thead>\n",
       "  <tbody>\n",
       "    <tr>\n",
       "      <th>0</th>\n",
       "      <td>670772142</td>\n",
       "      <td>4</td>\n",
       "      <td>2019-4</td>\n",
       "      <td>Australia</td>\n",
       "      <td>If you've ever been to Disneyland anywhere you...</td>\n",
       "      <td>HongKong</td>\n",
       "      <td>2019</td>\n",
       "    </tr>\n",
       "    <tr>\n",
       "      <th>1</th>\n",
       "      <td>670682799</td>\n",
       "      <td>4</td>\n",
       "      <td>2019-5</td>\n",
       "      <td>Philippines</td>\n",
       "      <td>Its been a while since d last time we visit HK...</td>\n",
       "      <td>HongKong</td>\n",
       "      <td>2019</td>\n",
       "    </tr>\n",
       "    <tr>\n",
       "      <th>2</th>\n",
       "      <td>670623270</td>\n",
       "      <td>4</td>\n",
       "      <td>2019-4</td>\n",
       "      <td>United Arab Emirates</td>\n",
       "      <td>Thanks God it wasn   t too hot or too humid wh...</td>\n",
       "      <td>HongKong</td>\n",
       "      <td>2019</td>\n",
       "    </tr>\n",
       "    <tr>\n",
       "      <th>3</th>\n",
       "      <td>670607911</td>\n",
       "      <td>4</td>\n",
       "      <td>2019-4</td>\n",
       "      <td>Australia</td>\n",
       "      <td>HK Disneyland is a great compact park. Unfortu...</td>\n",
       "      <td>HongKong</td>\n",
       "      <td>2019</td>\n",
       "    </tr>\n",
       "    <tr>\n",
       "      <th>4</th>\n",
       "      <td>670607296</td>\n",
       "      <td>4</td>\n",
       "      <td>2019-4</td>\n",
       "      <td>United Kingdom</td>\n",
       "      <td>the location is not in the city, took around 1...</td>\n",
       "      <td>HongKong</td>\n",
       "      <td>2019</td>\n",
       "    </tr>\n",
       "  </tbody>\n",
       "</table>\n",
       "</div>"
      ],
      "text/plain": [
       "   Review_ID  Rating Year_Month     Reviewer_Location  \\\n",
       "0  670772142       4     2019-4             Australia   \n",
       "1  670682799       4     2019-5           Philippines   \n",
       "2  670623270       4     2019-4  United Arab Emirates   \n",
       "3  670607911       4     2019-4             Australia   \n",
       "4  670607296       4     2019-4        United Kingdom   \n",
       "\n",
       "                                         Review_Text    Branch  Year  \n",
       "0  If you've ever been to Disneyland anywhere you...  HongKong  2019  \n",
       "1  Its been a while since d last time we visit HK...  HongKong  2019  \n",
       "2  Thanks God it wasn   t too hot or too humid wh...  HongKong  2019  \n",
       "3  HK Disneyland is a great compact park. Unfortu...  HongKong  2019  \n",
       "4  the location is not in the city, took around 1...  HongKong  2019  "
      ]
     },
     "execution_count": 25,
     "metadata": {},
     "output_type": "execute_result"
    }
   ],
   "source": [
    "df_cleaned.head()"
   ]
  },
  {
   "cell_type": "code",
   "execution_count": 26,
   "metadata": {},
   "outputs": [
    {
     "data": {
      "text/plain": [
       "Branch\n",
       "California    18192\n",
       "HongKong       9131\n",
       "Paris         12691\n",
       "Name: Review_ID, dtype: int64"
      ]
     },
     "execution_count": 26,
     "metadata": {},
     "output_type": "execute_result"
    }
   ],
   "source": [
    "df_Branch = df_cleaned.groupby('Branch')['Review_ID'].count()\n",
    "df_Branch"
   ]
  },
  {
   "cell_type": "code",
   "execution_count": 27,
   "metadata": {},
   "outputs": [
    {
     "data": {
      "image/png": "[encoded data removed]",
      "text/plain": [
       "<Figure size 504x360 with 1 Axes>"
      ]
     },
     "metadata": {
      "needs_background": "light"
     },
     "output_type": "display_data"
    }
   ],
   "source": [
    "plt.figure(figsize = (7, 5))\n",
    "plt.bar(df_Branch.index, df_Branch, color='#193bcf', width = .3)\n",
    "plt.xlabel('Disneyland Branch')\n",
    "plt.ylabel('No. of Reviews')\n",
    "plt.title('Reviews per Disneyland Branch')\n",
    "\n",
    "for i in range(len(df_Branch.index)):\n",
    "    plt.text(i, df_Branch[i], df_Branch[i], ha='center', va = 'bottom')\n",
    "\n",
    "plt.show;"
   ]
  },
  {
   "cell_type": "code",
   "execution_count": 28,
   "metadata": {},
   "outputs": [
    {
     "data": {
      "text/plain": [
       "Rating\n",
       "1     1338\n",
       "2     1928\n",
       "3     4778\n",
       "4    10076\n",
       "5    21894\n",
       "Name: Review_ID, dtype: int64"
      ]
     },
     "execution_count": 28,
     "metadata": {},
     "output_type": "execute_result"
    }
   ],
   "source": [
    "df_Rating = df_cleaned.groupby('Rating')['Review_ID'].count()\n",
    "df_Rating"
   ]
  },
  {
   "cell_type": "code",
   "execution_count": 29,
   "metadata": {},
   "outputs": [
    {
     "data": {
      "image/png": "[encoded data removed]",
      "text/plain": [
       "<Figure size 504x360 with 1 Axes>"
      ]
     },
     "metadata": {
      "needs_background": "light"
     },
     "output_type": "display_data"
    }
   ],
   "source": [
    "plt.figure(figsize = (7, 5))\n",
    "plt.bar(df_Rating.index, df_Rating, color='#193bcf', width = .5)\n",
    "plt.xlabel('Rating')\n",
    "plt.ylabel('No. of Reviews')\n",
    "plt.title('Reviews per Rating')\n",
    "\n",
    "for i in range(1, 6):\n",
    "    plt.text(i, df_Rating[i], df_Rating[i], ha='center')\n",
    "\n",
    "plt.show;"
   ]
  },
  {
   "cell_type": "code",
   "execution_count": 30,
   "metadata": {},
   "outputs": [
    {
     "data": {
      "text/plain": [
       "Year\n",
       "2010     143\n",
       "2011    1975\n",
       "2012    4339\n",
       "2013    4707\n",
       "2014    5297\n",
       "2015    6978\n",
       "2016    6598\n",
       "2017    5195\n",
       "2018    3996\n",
       "2019     786\n",
       "Name: Review_ID, dtype: int64"
      ]
     },
     "execution_count": 30,
     "metadata": {},
     "output_type": "execute_result"
    }
   ],
   "source": [
    "df_Year = df_cleaned.groupby('Year')['Review_ID'].count()\n",
    "df_Year"
   ]
  },
  {
   "cell_type": "code",
   "execution_count": 31,
   "metadata": {},
   "outputs": [
    {
     "data": {
      "image/png": "[encoded data removed]",
      "text/plain": [
       "<Figure size 504x360 with 1 Axes>"
      ]
     },
     "metadata": {
      "needs_background": "light"
     },
     "output_type": "display_data"
    }
   ],
   "source": [
    "plt.figure(figsize = (7, 5))\n",
    "plt.bar(df_Year.index, df_Year, color='#193bcf', width = .5)\n",
    "plt.xlabel('Year')\n",
    "plt.ylabel('No. of Reviews')\n",
    "plt.title('Reviews per Year')\n",
    "\n",
    "for i in range(len(df_Year.index)):\n",
    "    plt.text(i, df_Year[i], df_Year[i], ha='center', va = 'bottom')\n",
    "\n",
    "plt.show;"
   ]
  },
  {
   "cell_type": "code",
   "execution_count": 32,
   "metadata": {},
   "outputs": [
    {
     "data": {
      "text/plain": [
       "Reviewer_Location\n",
       "Afghanistan             2\n",
       "Albania                 6\n",
       "Algeria                 2\n",
       "Andorra                 1\n",
       "Antigua and Barbuda     1\n",
       "                       ..\n",
       "Venezuela               3\n",
       "Vietnam                55\n",
       "Zambia                  3\n",
       "Zimbabwe                2\n",
       "�land Islands           1\n",
       "Name: Review_ID, Length: 162, dtype: int64"
      ]
     },
     "execution_count": 32,
     "metadata": {},
     "output_type": "execute_result"
    }
   ],
   "source": [
    "df_Location = df_cleaned.groupby('Reviewer_Location')['Review_ID'].count()\n",
    "df_Location"
   ]
  },
  {
   "cell_type": "code",
   "execution_count": 33,
   "metadata": {},
   "outputs": [
    {
     "data": {
      "text/html": [
       "<div>\n",
       "<style scoped>\n",
       "    .dataframe tbody tr th:only-of-type {\n",
       "        vertical-align: middle;\n",
       "    }\n",
       "\n",
       "    .dataframe tbody tr th {\n",
       "        vertical-align: top;\n",
       "    }\n",
       "\n",
       "    .dataframe thead th {\n",
       "        text-align: right;\n",
       "    }\n",
       "</style>\n",
       "<table border=\"1\" class=\"dataframe\">\n",
       "  <thead>\n",
       "    <tr style=\"text-align: right;\">\n",
       "      <th></th>\n",
       "      <th>Review_ID</th>\n",
       "      <th>Rating</th>\n",
       "      <th>Year_Month</th>\n",
       "      <th>Reviewer_Location</th>\n",
       "      <th>Review_Text</th>\n",
       "      <th>Branch</th>\n",
       "      <th>Year</th>\n",
       "    </tr>\n",
       "  </thead>\n",
       "  <tbody>\n",
       "    <tr>\n",
       "      <th>0</th>\n",
       "      <td>670772142</td>\n",
       "      <td>4</td>\n",
       "      <td>2019-4</td>\n",
       "      <td>Australia</td>\n",
       "      <td>If you've ever been to Disneyland anywhere you...</td>\n",
       "      <td>HongKong</td>\n",
       "      <td>2019</td>\n",
       "    </tr>\n",
       "    <tr>\n",
       "      <th>1</th>\n",
       "      <td>670682799</td>\n",
       "      <td>4</td>\n",
       "      <td>2019-5</td>\n",
       "      <td>Philippines</td>\n",
       "      <td>Its been a while since d last time we visit HK...</td>\n",
       "      <td>HongKong</td>\n",
       "      <td>2019</td>\n",
       "    </tr>\n",
       "    <tr>\n",
       "      <th>2</th>\n",
       "      <td>670623270</td>\n",
       "      <td>4</td>\n",
       "      <td>2019-4</td>\n",
       "      <td>United Arab Emirates</td>\n",
       "      <td>Thanks God it wasn   t too hot or too humid wh...</td>\n",
       "      <td>HongKong</td>\n",
       "      <td>2019</td>\n",
       "    </tr>\n",
       "    <tr>\n",
       "      <th>3</th>\n",
       "      <td>670607911</td>\n",
       "      <td>4</td>\n",
       "      <td>2019-4</td>\n",
       "      <td>Australia</td>\n",
       "      <td>HK Disneyland is a great compact park. Unfortu...</td>\n",
       "      <td>HongKong</td>\n",
       "      <td>2019</td>\n",
       "    </tr>\n",
       "    <tr>\n",
       "      <th>4</th>\n",
       "      <td>670607296</td>\n",
       "      <td>4</td>\n",
       "      <td>2019-4</td>\n",
       "      <td>United Kingdom</td>\n",
       "      <td>the location is not in the city, took around 1...</td>\n",
       "      <td>HongKong</td>\n",
       "      <td>2019</td>\n",
       "    </tr>\n",
       "    <tr>\n",
       "      <th>...</th>\n",
       "      <td>...</td>\n",
       "      <td>...</td>\n",
       "      <td>...</td>\n",
       "      <td>...</td>\n",
       "      <td>...</td>\n",
       "      <td>...</td>\n",
       "      <td>...</td>\n",
       "    </tr>\n",
       "    <tr>\n",
       "      <th>40009</th>\n",
       "      <td>92198076</td>\n",
       "      <td>4</td>\n",
       "      <td>2011-1</td>\n",
       "      <td>United Kingdom</td>\n",
       "      <td>Although our pick up was prompt the taxi drive...</td>\n",
       "      <td>Paris</td>\n",
       "      <td>2011</td>\n",
       "    </tr>\n",
       "    <tr>\n",
       "      <th>40010</th>\n",
       "      <td>92061774</td>\n",
       "      <td>4</td>\n",
       "      <td>2011-1</td>\n",
       "      <td>Germany</td>\n",
       "      <td>Just returned from a 4 days family trip to Dis...</td>\n",
       "      <td>Paris</td>\n",
       "      <td>2011</td>\n",
       "    </tr>\n",
       "    <tr>\n",
       "      <th>40011</th>\n",
       "      <td>91995748</td>\n",
       "      <td>1</td>\n",
       "      <td>2010-12</td>\n",
       "      <td>United Kingdom</td>\n",
       "      <td>We spent the 20 Dec 2010 in the Disney park an...</td>\n",
       "      <td>Paris</td>\n",
       "      <td>2010</td>\n",
       "    </tr>\n",
       "    <tr>\n",
       "      <th>40012</th>\n",
       "      <td>91984642</td>\n",
       "      <td>2</td>\n",
       "      <td>2010-12</td>\n",
       "      <td>United Kingdom</td>\n",
       "      <td>Well I was really looking forward to this trip...</td>\n",
       "      <td>Paris</td>\n",
       "      <td>2010</td>\n",
       "    </tr>\n",
       "    <tr>\n",
       "      <th>40013</th>\n",
       "      <td>91827418</td>\n",
       "      <td>5</td>\n",
       "      <td>2010-9</td>\n",
       "      <td>United Kingdom</td>\n",
       "      <td>If staying at a Disney hotel make good use of ...</td>\n",
       "      <td>Paris</td>\n",
       "      <td>2010</td>\n",
       "    </tr>\n",
       "  </tbody>\n",
       "</table>\n",
       "<p>40014 rows × 7 columns</p>\n",
       "</div>"
      ],
      "text/plain": [
       "       Review_ID  Rating Year_Month     Reviewer_Location  \\\n",
       "0      670772142       4     2019-4             Australia   \n",
       "1      670682799       4     2019-5           Philippines   \n",
       "2      670623270       4     2019-4  United Arab Emirates   \n",
       "3      670607911       4     2019-4             Australia   \n",
       "4      670607296       4     2019-4        United Kingdom   \n",
       "...          ...     ...        ...                   ...   \n",
       "40009   92198076       4     2011-1        United Kingdom   \n",
       "40010   92061774       4     2011-1               Germany   \n",
       "40011   91995748       1    2010-12        United Kingdom   \n",
       "40012   91984642       2    2010-12        United Kingdom   \n",
       "40013   91827418       5     2010-9        United Kingdom   \n",
       "\n",
       "                                             Review_Text    Branch  Year  \n",
       "0      If you've ever been to Disneyland anywhere you...  HongKong  2019  \n",
       "1      Its been a while since d last time we visit HK...  HongKong  2019  \n",
       "2      Thanks God it wasn   t too hot or too humid wh...  HongKong  2019  \n",
       "3      HK Disneyland is a great compact park. Unfortu...  HongKong  2019  \n",
       "4      the location is not in the city, took around 1...  HongKong  2019  \n",
       "...                                                  ...       ...   ...  \n",
       "40009  Although our pick up was prompt the taxi drive...     Paris  2011  \n",
       "40010  Just returned from a 4 days family trip to Dis...     Paris  2011  \n",
       "40011  We spent the 20 Dec 2010 in the Disney park an...     Paris  2010  \n",
       "40012  Well I was really looking forward to this trip...     Paris  2010  \n",
       "40013  If staying at a Disney hotel make good use of ...     Paris  2010  \n",
       "\n",
       "[40014 rows x 7 columns]"
      ]
     },
     "execution_count": 33,
     "metadata": {},
     "output_type": "execute_result"
    }
   ],
   "source": [
    "df_cleaned"
   ]
  },
  {
   "cell_type": "code",
   "execution_count": 34,
   "metadata": {},
   "outputs": [],
   "source": [
    "def print_top_words(model, feature_names, n_top_words):\n",
    "    for topic_idx, topic in enumerate(model.components_):\n",
    "        message = \"Topic #%d: \" % topic_idx\n",
    "        message += \" \".join([feature_names[i]\n",
    "                             for i in topic.argsort()[:-n_top_words - 1:-1]])\n",
    "        print(message)\n",
    "    print()"
   ]
  },
  {
   "cell_type": "code",
   "execution_count": 35,
   "metadata": {},
   "outputs": [],
   "source": [
    "n_components = 5\n",
    "n_top_words = 15"
   ]
  },
  {
   "cell_type": "code",
   "execution_count": 36,
   "metadata": {},
   "outputs": [],
   "source": [
    "sw = stopwords.words('english')"
   ]
  },
  {
   "cell_type": "code",
   "execution_count": 37,
   "metadata": {},
   "outputs": [],
   "source": [
    "sw.append('park')\n",
    "sw.append('disneyland')\n",
    "sw.append('disney')\n"
   ]
  },
  {
   "cell_type": "code",
   "execution_count": 38,
   "metadata": {},
   "outputs": [],
   "source": [
    "vect = CountVectorizer(max_df = 0.95, min_df = 2,\n",
    "                      stop_words = sw)\n",
    "\n",
    "tf = vect.fit_transform(df_cleaned['Review_Text'])"
   ]
  },
  {
   "cell_type": "code",
   "execution_count": 39,
   "metadata": {},
   "outputs": [],
   "source": [
    "lda = LatentDirichletAllocation(n_components=n_components, \n",
    "                                max_iter=5,\n",
    "                                learning_method='online',\n",
    "                                learning_offset=50.,\n",
    "                                random_state=0)"
   ]
  },
  {
   "cell_type": "code",
   "execution_count": 40,
   "metadata": {},
   "outputs": [
    {
     "data": {
      "text/plain": [
       "LatentDirichletAllocation(learning_method='online', learning_offset=50.0,\n",
       "                          max_iter=5, n_components=5, random_state=0)"
      ]
     },
     "execution_count": 40,
     "metadata": {},
     "output_type": "execute_result"
    }
   ],
   "source": [
    "lda.fit(tf)"
   ]
  },
  {
   "cell_type": "code",
   "execution_count": 41,
   "metadata": {},
   "outputs": [
    {
     "name": "stdout",
     "output_type": "stream",
     "text": [
      "\n",
      "Topics in LDA model:\n",
      "Topic #0: staff paris people would children us experience even many like one closed year cast queue\n",
      "Topic #1: mountain ride space world pirates thunder star jones indiana closed california big like magic caribbean\n",
      "Topic #2: rides time day great go place kids visit good really see fun one much food\n",
      "Topic #3: get day rides time fast pass one ride go minutes wait hotel line would people\n",
      "Topic #4: show ride water train mickey main land parade coaster also castle small good food take\n",
      "\n"
     ]
    }
   ],
   "source": [
    "print(\"\\nTopics in LDA model:\")\n",
    "tf_feature_names = vect.get_feature_names()\n",
    "print_top_words(lda, tf_feature_names, n_top_words)"
   ]
  },
  {
   "cell_type": "code",
   "execution_count": 42,
   "metadata": {},
   "outputs": [
    {
     "data": {
      "image/png": "[encoded data removed]",
      "text/plain": [
       "<Figure size 432x288 with 1 Axes>"
      ]
     },
     "metadata": {
      "needs_background": "light"
     },
     "output_type": "display_data"
    }
   ],
   "source": [
    "#create word cloud for topic 0\n",
    "plt = reload(plt)\n",
    "wordcloud = WordCloud(background_color='white', colormap='Paired').generate('staff paris people would children us experience even many like one closed year cast queue')\n",
    "plt.imshow(wordcloud, interpolation = 'bilinear')\n",
    "plt.axis('off')\n",
    "plt.title('Word Cloud Topic 0', pad = 25)\n",
    "plt.show()"
   ]
  },
  {
   "cell_type": "code",
   "execution_count": 43,
   "metadata": {},
   "outputs": [
    {
     "data": {
      "image/png": "[encoded data removed]",
      "text/plain": [
       "<Figure size 432x288 with 1 Axes>"
      ]
     },
     "metadata": {
      "needs_background": "light"
     },
     "output_type": "display_data"
    }
   ],
   "source": [
    "#create word cloud for topic 1\n",
    "plt = reload(plt)\n",
    "wordcloud = WordCloud(background_color='white', colormap='Paired').generate('mountain ride space world pirates thunder star jones indiana closed california big like magic caribbean')\n",
    "plt.imshow(wordcloud, interpolation = 'bilinear')\n",
    "plt.axis('off')\n",
    "plt.title('Word Cloud Topic 1', pad = 25)\n",
    "plt.show()"
   ]
  },
  {
   "cell_type": "code",
   "execution_count": 44,
   "metadata": {},
   "outputs": [
    {
     "data": {
      "image/png": "[encoded data removed]",
      "text/plain": [
       "<Figure size 432x288 with 1 Axes>"
      ]
     },
     "metadata": {
      "needs_background": "light"
     },
     "output_type": "display_data"
    }
   ],
   "source": [
    "#create word cloud for topic 2\n",
    "plt = reload(plt)\n",
    "wordcloud = WordCloud(background_color='white', colormap='Paired').generate('rides time day great go place kids visit good really see fun one much food')\n",
    "plt.imshow(wordcloud, interpolation = 'bilinear')\n",
    "plt.axis('off')\n",
    "plt.title('Word Cloud Topic 2', pad = 25)\n",
    "plt.show()"
   ]
  },
  {
   "cell_type": "code",
   "execution_count": 45,
   "metadata": {},
   "outputs": [
    {
     "data": {
      "image/png": "[encoded data removed]",
      "text/plain": [
       "<Figure size 432x288 with 1 Axes>"
      ]
     },
     "metadata": {
      "needs_background": "light"
     },
     "output_type": "display_data"
    }
   ],
   "source": [
    "#create word cloud for topic 3\n",
    "plt = reload(plt)\n",
    "wordcloud = WordCloud(background_color='white', colormap='Paired').generate('get day rides time fast pass one ride go minutes wait hotel line would people')\n",
    "plt.imshow(wordcloud, interpolation = 'bilinear')\n",
    "plt.axis('off')\n",
    "plt.title('Word Cloud Topic 3', pad = 25)\n",
    "plt.show()"
   ]
  },
  {
   "cell_type": "code",
   "execution_count": 46,
   "metadata": {},
   "outputs": [
    {
     "data": {
      "image/png": "[encoded data removed]",
      "text/plain": [
       "<Figure size 432x288 with 1 Axes>"
      ]
     },
     "metadata": {
      "needs_background": "light"
     },
     "output_type": "display_data"
    }
   ],
   "source": [
    "#create word cloud for topic 4\n",
    "plt = reload(plt)\n",
    "wordcloud = WordCloud(background_color='white', colormap='Paired').generate('show ride water train mickey main land parade coaster also castle small good food take')\n",
    "plt.imshow(wordcloud, interpolation = 'bilinear')\n",
    "plt.axis('off')\n",
    "plt.title('Word Cloud Topic 4', pad = 25)\n",
    "plt.show()"
   ]
  },
  {
   "cell_type": "code",
   "execution_count": 47,
   "metadata": {},
   "outputs": [
    {
     "data": {
      "text/plain": [
       "array([[0.00685807, 0.00681696, 0.50374229, 0.00678475, 0.47579792],\n",
       "       [0.1422872 , 0.24900476, 0.39005423, 0.00211969, 0.21653412],\n",
       "       [0.00253675, 0.00251865, 0.74743834, 0.24497388, 0.00253238],\n",
       "       ...,\n",
       "       [0.29096239, 0.06810685, 0.05898316, 0.46624427, 0.11570334],\n",
       "       [0.32510102, 0.10049603, 0.17711496, 0.24001287, 0.15727513],\n",
       "       [0.00348917, 0.05216198, 0.00354715, 0.58891718, 0.35188452]])"
      ]
     },
     "execution_count": 47,
     "metadata": {},
     "output_type": "execute_result"
    }
   ],
   "source": [
    "# Creat Document - Topic Matrix\n",
    "lda_output = lda.transform(tf)\n",
    "lda_output"
   ]
  },
  {
   "cell_type": "code",
   "execution_count": 48,
   "metadata": {},
   "outputs": [
    {
     "data": {
      "text/plain": [
       "['Theme_0', 'Theme_1', 'Theme_2', 'Theme_3', 'Theme_4']"
      ]
     },
     "execution_count": 48,
     "metadata": {},
     "output_type": "execute_result"
    }
   ],
   "source": [
    "# column names\n",
    "themeNames = [\"Theme_\" + str(i) for i in range (lda.n_components)]\n",
    "themeNames"
   ]
  },
  {
   "cell_type": "code",
   "execution_count": 49,
   "metadata": {},
   "outputs": [],
   "source": [
    "# index names\n",
    "idNames = [i for i in range(len(df_cleaned))]"
   ]
  },
  {
   "cell_type": "code",
   "execution_count": 50,
   "metadata": {},
   "outputs": [
    {
     "data": {
      "text/html": [
       "<div>\n",
       "<style scoped>\n",
       "    .dataframe tbody tr th:only-of-type {\n",
       "        vertical-align: middle;\n",
       "    }\n",
       "\n",
       "    .dataframe tbody tr th {\n",
       "        vertical-align: top;\n",
       "    }\n",
       "\n",
       "    .dataframe thead th {\n",
       "        text-align: right;\n",
       "    }\n",
       "</style>\n",
       "<table border=\"1\" class=\"dataframe\">\n",
       "  <thead>\n",
       "    <tr style=\"text-align: right;\">\n",
       "      <th></th>\n",
       "      <th>Theme_0</th>\n",
       "      <th>Theme_1</th>\n",
       "      <th>Theme_2</th>\n",
       "      <th>Theme_3</th>\n",
       "      <th>Theme_4</th>\n",
       "    </tr>\n",
       "  </thead>\n",
       "  <tbody>\n",
       "    <tr>\n",
       "      <th>0</th>\n",
       "      <td>0.01</td>\n",
       "      <td>0.01</td>\n",
       "      <td>0.50</td>\n",
       "      <td>0.01</td>\n",
       "      <td>0.48</td>\n",
       "    </tr>\n",
       "    <tr>\n",
       "      <th>1</th>\n",
       "      <td>0.14</td>\n",
       "      <td>0.25</td>\n",
       "      <td>0.39</td>\n",
       "      <td>0.00</td>\n",
       "      <td>0.22</td>\n",
       "    </tr>\n",
       "    <tr>\n",
       "      <th>2</th>\n",
       "      <td>0.00</td>\n",
       "      <td>0.00</td>\n",
       "      <td>0.75</td>\n",
       "      <td>0.24</td>\n",
       "      <td>0.00</td>\n",
       "    </tr>\n",
       "    <tr>\n",
       "      <th>3</th>\n",
       "      <td>0.00</td>\n",
       "      <td>0.39</td>\n",
       "      <td>0.41</td>\n",
       "      <td>0.12</td>\n",
       "      <td>0.07</td>\n",
       "    </tr>\n",
       "    <tr>\n",
       "      <th>4</th>\n",
       "      <td>0.01</td>\n",
       "      <td>0.01</td>\n",
       "      <td>0.95</td>\n",
       "      <td>0.01</td>\n",
       "      <td>0.01</td>\n",
       "    </tr>\n",
       "    <tr>\n",
       "      <th>...</th>\n",
       "      <td>...</td>\n",
       "      <td>...</td>\n",
       "      <td>...</td>\n",
       "      <td>...</td>\n",
       "      <td>...</td>\n",
       "    </tr>\n",
       "    <tr>\n",
       "      <th>40009</th>\n",
       "      <td>0.17</td>\n",
       "      <td>0.03</td>\n",
       "      <td>0.00</td>\n",
       "      <td>0.79</td>\n",
       "      <td>0.01</td>\n",
       "    </tr>\n",
       "    <tr>\n",
       "      <th>40010</th>\n",
       "      <td>0.07</td>\n",
       "      <td>0.04</td>\n",
       "      <td>0.26</td>\n",
       "      <td>0.44</td>\n",
       "      <td>0.18</td>\n",
       "    </tr>\n",
       "    <tr>\n",
       "      <th>40011</th>\n",
       "      <td>0.29</td>\n",
       "      <td>0.07</td>\n",
       "      <td>0.06</td>\n",
       "      <td>0.47</td>\n",
       "      <td>0.12</td>\n",
       "    </tr>\n",
       "    <tr>\n",
       "      <th>40012</th>\n",
       "      <td>0.33</td>\n",
       "      <td>0.10</td>\n",
       "      <td>0.18</td>\n",
       "      <td>0.24</td>\n",
       "      <td>0.16</td>\n",
       "    </tr>\n",
       "    <tr>\n",
       "      <th>40013</th>\n",
       "      <td>0.00</td>\n",
       "      <td>0.05</td>\n",
       "      <td>0.00</td>\n",
       "      <td>0.59</td>\n",
       "      <td>0.35</td>\n",
       "    </tr>\n",
       "  </tbody>\n",
       "</table>\n",
       "<p>40014 rows × 5 columns</p>\n",
       "</div>"
      ],
      "text/plain": [
       "       Theme_0  Theme_1  Theme_2  Theme_3  Theme_4\n",
       "0         0.01     0.01     0.50     0.01     0.48\n",
       "1         0.14     0.25     0.39     0.00     0.22\n",
       "2         0.00     0.00     0.75     0.24     0.00\n",
       "3         0.00     0.39     0.41     0.12     0.07\n",
       "4         0.01     0.01     0.95     0.01     0.01\n",
       "...        ...      ...      ...      ...      ...\n",
       "40009     0.17     0.03     0.00     0.79     0.01\n",
       "40010     0.07     0.04     0.26     0.44     0.18\n",
       "40011     0.29     0.07     0.06     0.47     0.12\n",
       "40012     0.33     0.10     0.18     0.24     0.16\n",
       "40013     0.00     0.05     0.00     0.59     0.35\n",
       "\n",
       "[40014 rows x 5 columns]"
      ]
     },
     "execution_count": 50,
     "metadata": {},
     "output_type": "execute_result"
    }
   ],
   "source": [
    "# Make the pandas dataframe\n",
    "\n",
    "df_themes = pd.DataFrame(np.round(lda_output, 2), columns = themeNames, index = idNames)\n",
    "df_themes\n"
   ]
  },
  {
   "cell_type": "code",
   "execution_count": 51,
   "metadata": {},
   "outputs": [],
   "source": [
    "# Get dominant topic for each document\n",
    "dominant_theme = np.argmax(df_themes.values, axis = 1)\n",
    "df_themes['dominant_theme'] = dominant_theme"
   ]
  },
  {
   "cell_type": "code",
   "execution_count": 52,
   "metadata": {},
   "outputs": [
    {
     "data": {
      "text/html": [
       "<div>\n",
       "<style scoped>\n",
       "    .dataframe tbody tr th:only-of-type {\n",
       "        vertical-align: middle;\n",
       "    }\n",
       "\n",
       "    .dataframe tbody tr th {\n",
       "        vertical-align: top;\n",
       "    }\n",
       "\n",
       "    .dataframe thead th {\n",
       "        text-align: right;\n",
       "    }\n",
       "</style>\n",
       "<table border=\"1\" class=\"dataframe\">\n",
       "  <thead>\n",
       "    <tr style=\"text-align: right;\">\n",
       "      <th></th>\n",
       "      <th>Theme_0</th>\n",
       "      <th>Theme_1</th>\n",
       "      <th>Theme_2</th>\n",
       "      <th>Theme_3</th>\n",
       "      <th>Theme_4</th>\n",
       "      <th>dominant_theme</th>\n",
       "    </tr>\n",
       "  </thead>\n",
       "  <tbody>\n",
       "    <tr>\n",
       "      <th>0</th>\n",
       "      <td>0.01</td>\n",
       "      <td>0.01</td>\n",
       "      <td>0.50</td>\n",
       "      <td>0.01</td>\n",
       "      <td>0.48</td>\n",
       "      <td>2</td>\n",
       "    </tr>\n",
       "    <tr>\n",
       "      <th>1</th>\n",
       "      <td>0.14</td>\n",
       "      <td>0.25</td>\n",
       "      <td>0.39</td>\n",
       "      <td>0.00</td>\n",
       "      <td>0.22</td>\n",
       "      <td>2</td>\n",
       "    </tr>\n",
       "    <tr>\n",
       "      <th>2</th>\n",
       "      <td>0.00</td>\n",
       "      <td>0.00</td>\n",
       "      <td>0.75</td>\n",
       "      <td>0.24</td>\n",
       "      <td>0.00</td>\n",
       "      <td>2</td>\n",
       "    </tr>\n",
       "    <tr>\n",
       "      <th>3</th>\n",
       "      <td>0.00</td>\n",
       "      <td>0.39</td>\n",
       "      <td>0.41</td>\n",
       "      <td>0.12</td>\n",
       "      <td>0.07</td>\n",
       "      <td>2</td>\n",
       "    </tr>\n",
       "    <tr>\n",
       "      <th>4</th>\n",
       "      <td>0.01</td>\n",
       "      <td>0.01</td>\n",
       "      <td>0.95</td>\n",
       "      <td>0.01</td>\n",
       "      <td>0.01</td>\n",
       "      <td>2</td>\n",
       "    </tr>\n",
       "    <tr>\n",
       "      <th>...</th>\n",
       "      <td>...</td>\n",
       "      <td>...</td>\n",
       "      <td>...</td>\n",
       "      <td>...</td>\n",
       "      <td>...</td>\n",
       "      <td>...</td>\n",
       "    </tr>\n",
       "    <tr>\n",
       "      <th>40009</th>\n",
       "      <td>0.17</td>\n",
       "      <td>0.03</td>\n",
       "      <td>0.00</td>\n",
       "      <td>0.79</td>\n",
       "      <td>0.01</td>\n",
       "      <td>3</td>\n",
       "    </tr>\n",
       "    <tr>\n",
       "      <th>40010</th>\n",
       "      <td>0.07</td>\n",
       "      <td>0.04</td>\n",
       "      <td>0.26</td>\n",
       "      <td>0.44</td>\n",
       "      <td>0.18</td>\n",
       "      <td>3</td>\n",
       "    </tr>\n",
       "    <tr>\n",
       "      <th>40011</th>\n",
       "      <td>0.29</td>\n",
       "      <td>0.07</td>\n",
       "      <td>0.06</td>\n",
       "      <td>0.47</td>\n",
       "      <td>0.12</td>\n",
       "      <td>3</td>\n",
       "    </tr>\n",
       "    <tr>\n",
       "      <th>40012</th>\n",
       "      <td>0.33</td>\n",
       "      <td>0.10</td>\n",
       "      <td>0.18</td>\n",
       "      <td>0.24</td>\n",
       "      <td>0.16</td>\n",
       "      <td>0</td>\n",
       "    </tr>\n",
       "    <tr>\n",
       "      <th>40013</th>\n",
       "      <td>0.00</td>\n",
       "      <td>0.05</td>\n",
       "      <td>0.00</td>\n",
       "      <td>0.59</td>\n",
       "      <td>0.35</td>\n",
       "      <td>3</td>\n",
       "    </tr>\n",
       "  </tbody>\n",
       "</table>\n",
       "<p>40014 rows × 6 columns</p>\n",
       "</div>"
      ],
      "text/plain": [
       "       Theme_0  Theme_1  Theme_2  Theme_3  Theme_4  dominant_theme\n",
       "0         0.01     0.01     0.50     0.01     0.48               2\n",
       "1         0.14     0.25     0.39     0.00     0.22               2\n",
       "2         0.00     0.00     0.75     0.24     0.00               2\n",
       "3         0.00     0.39     0.41     0.12     0.07               2\n",
       "4         0.01     0.01     0.95     0.01     0.01               2\n",
       "...        ...      ...      ...      ...      ...             ...\n",
       "40009     0.17     0.03     0.00     0.79     0.01               3\n",
       "40010     0.07     0.04     0.26     0.44     0.18               3\n",
       "40011     0.29     0.07     0.06     0.47     0.12               3\n",
       "40012     0.33     0.10     0.18     0.24     0.16               0\n",
       "40013     0.00     0.05     0.00     0.59     0.35               3\n",
       "\n",
       "[40014 rows x 6 columns]"
      ]
     },
     "execution_count": 52,
     "metadata": {},
     "output_type": "execute_result"
    }
   ],
   "source": [
    "df_themes"
   ]
  },
  {
   "cell_type": "code",
   "execution_count": 53,
   "metadata": {},
   "outputs": [
    {
     "data": {
      "text/plain": [
       "dominant_theme\n",
       "0     3431\n",
       "1     1521\n",
       "2    25806\n",
       "3     7993\n",
       "4     1263\n",
       "Name: dominant_theme, dtype: int64"
      ]
     },
     "execution_count": 53,
     "metadata": {},
     "output_type": "execute_result"
    }
   ],
   "source": [
    "theme_breakdown = df_themes.groupby('dominant_theme',)['dominant_theme'].count()\n",
    "theme_breakdown"
   ]
  },
  {
   "cell_type": "code",
   "execution_count": 54,
   "metadata": {},
   "outputs": [
    {
     "data": {
      "image/png": "[encoded data removed]",
      "text/plain": [
       "<Figure size 504x360 with 1 Axes>"
      ]
     },
     "metadata": {
      "needs_background": "light"
     },
     "output_type": "display_data"
    }
   ],
   "source": [
    "plt.figure(figsize = (7, 5))\n",
    "plt.bar(theme_breakdown.index, theme_breakdown, color='#193bcf', width = .5)\n",
    "plt.xlabel('Theme')\n",
    "plt.ylabel('No. of Reviews')\n",
    "plt.title('Reviews per Theme')\n",
    "\n",
    "for i in range(0, 5):\n",
    "    plt.text(i, theme_breakdown[i], theme_breakdown[i], ha='center')\n",
    "\n",
    "plt.show;"
   ]
  },
  {
   "cell_type": "code",
   "execution_count": 55,
   "metadata": {},
   "outputs": [],
   "source": [
    "df_cleaned = pd.concat([df_cleaned, df_themes], axis = 1)"
   ]
  },
  {
   "cell_type": "code",
   "execution_count": 56,
   "metadata": {},
   "outputs": [
    {
     "data": {
      "text/html": [
       "<div>\n",
       "<style scoped>\n",
       "    .dataframe tbody tr th:only-of-type {\n",
       "        vertical-align: middle;\n",
       "    }\n",
       "\n",
       "    .dataframe tbody tr th {\n",
       "        vertical-align: top;\n",
       "    }\n",
       "\n",
       "    .dataframe thead th {\n",
       "        text-align: right;\n",
       "    }\n",
       "</style>\n",
       "<table border=\"1\" class=\"dataframe\">\n",
       "  <thead>\n",
       "    <tr style=\"text-align: right;\">\n",
       "      <th></th>\n",
       "      <th>Review_ID</th>\n",
       "      <th>Rating</th>\n",
       "      <th>Year_Month</th>\n",
       "      <th>Reviewer_Location</th>\n",
       "      <th>Review_Text</th>\n",
       "      <th>Branch</th>\n",
       "      <th>Year</th>\n",
       "      <th>Theme_0</th>\n",
       "      <th>Theme_1</th>\n",
       "      <th>Theme_2</th>\n",
       "      <th>Theme_3</th>\n",
       "      <th>Theme_4</th>\n",
       "      <th>dominant_theme</th>\n",
       "    </tr>\n",
       "  </thead>\n",
       "  <tbody>\n",
       "    <tr>\n",
       "      <th>0</th>\n",
       "      <td>670772142</td>\n",
       "      <td>4</td>\n",
       "      <td>2019-4</td>\n",
       "      <td>Australia</td>\n",
       "      <td>If you've ever been to Disneyland anywhere you...</td>\n",
       "      <td>HongKong</td>\n",
       "      <td>2019</td>\n",
       "      <td>0.01</td>\n",
       "      <td>0.01</td>\n",
       "      <td>0.50</td>\n",
       "      <td>0.01</td>\n",
       "      <td>0.48</td>\n",
       "      <td>2</td>\n",
       "    </tr>\n",
       "    <tr>\n",
       "      <th>1</th>\n",
       "      <td>670682799</td>\n",
       "      <td>4</td>\n",
       "      <td>2019-5</td>\n",
       "      <td>Philippines</td>\n",
       "      <td>Its been a while since d last time we visit HK...</td>\n",
       "      <td>HongKong</td>\n",
       "      <td>2019</td>\n",
       "      <td>0.14</td>\n",
       "      <td>0.25</td>\n",
       "      <td>0.39</td>\n",
       "      <td>0.00</td>\n",
       "      <td>0.22</td>\n",
       "      <td>2</td>\n",
       "    </tr>\n",
       "    <tr>\n",
       "      <th>2</th>\n",
       "      <td>670623270</td>\n",
       "      <td>4</td>\n",
       "      <td>2019-4</td>\n",
       "      <td>United Arab Emirates</td>\n",
       "      <td>Thanks God it wasn   t too hot or too humid wh...</td>\n",
       "      <td>HongKong</td>\n",
       "      <td>2019</td>\n",
       "      <td>0.00</td>\n",
       "      <td>0.00</td>\n",
       "      <td>0.75</td>\n",
       "      <td>0.24</td>\n",
       "      <td>0.00</td>\n",
       "      <td>2</td>\n",
       "    </tr>\n",
       "    <tr>\n",
       "      <th>3</th>\n",
       "      <td>670607911</td>\n",
       "      <td>4</td>\n",
       "      <td>2019-4</td>\n",
       "      <td>Australia</td>\n",
       "      <td>HK Disneyland is a great compact park. Unfortu...</td>\n",
       "      <td>HongKong</td>\n",
       "      <td>2019</td>\n",
       "      <td>0.00</td>\n",
       "      <td>0.39</td>\n",
       "      <td>0.41</td>\n",
       "      <td>0.12</td>\n",
       "      <td>0.07</td>\n",
       "      <td>2</td>\n",
       "    </tr>\n",
       "    <tr>\n",
       "      <th>4</th>\n",
       "      <td>670607296</td>\n",
       "      <td>4</td>\n",
       "      <td>2019-4</td>\n",
       "      <td>United Kingdom</td>\n",
       "      <td>the location is not in the city, took around 1...</td>\n",
       "      <td>HongKong</td>\n",
       "      <td>2019</td>\n",
       "      <td>0.01</td>\n",
       "      <td>0.01</td>\n",
       "      <td>0.95</td>\n",
       "      <td>0.01</td>\n",
       "      <td>0.01</td>\n",
       "      <td>2</td>\n",
       "    </tr>\n",
       "  </tbody>\n",
       "</table>\n",
       "</div>"
      ],
      "text/plain": [
       "   Review_ID  Rating Year_Month     Reviewer_Location  \\\n",
       "0  670772142       4     2019-4             Australia   \n",
       "1  670682799       4     2019-5           Philippines   \n",
       "2  670623270       4     2019-4  United Arab Emirates   \n",
       "3  670607911       4     2019-4             Australia   \n",
       "4  670607296       4     2019-4        United Kingdom   \n",
       "\n",
       "                                         Review_Text    Branch  Year  Theme_0  \\\n",
       "0  If you've ever been to Disneyland anywhere you...  HongKong  2019     0.01   \n",
       "1  Its been a while since d last time we visit HK...  HongKong  2019     0.14   \n",
       "2  Thanks God it wasn   t too hot or too humid wh...  HongKong  2019     0.00   \n",
       "3  HK Disneyland is a great compact park. Unfortu...  HongKong  2019     0.00   \n",
       "4  the location is not in the city, took around 1...  HongKong  2019     0.01   \n",
       "\n",
       "   Theme_1  Theme_2  Theme_3  Theme_4  dominant_theme  \n",
       "0     0.01     0.50     0.01     0.48               2  \n",
       "1     0.25     0.39     0.00     0.22               2  \n",
       "2     0.00     0.75     0.24     0.00               2  \n",
       "3     0.39     0.41     0.12     0.07               2  \n",
       "4     0.01     0.95     0.01     0.01               2  "
      ]
     },
     "execution_count": 56,
     "metadata": {},
     "output_type": "execute_result"
    }
   ],
   "source": [
    "df_cleaned.head()"
   ]
  },
  {
   "cell_type": "code",
   "execution_count": 57,
   "metadata": {},
   "outputs": [
    {
     "data": {
      "text/html": [
       "<div>\n",
       "<style scoped>\n",
       "    .dataframe tbody tr th:only-of-type {\n",
       "        vertical-align: middle;\n",
       "    }\n",
       "\n",
       "    .dataframe tbody tr th {\n",
       "        vertical-align: top;\n",
       "    }\n",
       "\n",
       "    .dataframe thead th {\n",
       "        text-align: right;\n",
       "    }\n",
       "</style>\n",
       "<table border=\"1\" class=\"dataframe\">\n",
       "  <thead>\n",
       "    <tr style=\"text-align: right;\">\n",
       "      <th></th>\n",
       "      <th>Rating</th>\n",
       "      <th>dominant_theme</th>\n",
       "      <th>count</th>\n",
       "    </tr>\n",
       "  </thead>\n",
       "  <tbody>\n",
       "    <tr>\n",
       "      <th>0</th>\n",
       "      <td>1</td>\n",
       "      <td>0</td>\n",
       "      <td>415</td>\n",
       "    </tr>\n",
       "    <tr>\n",
       "      <th>1</th>\n",
       "      <td>1</td>\n",
       "      <td>1</td>\n",
       "      <td>16</td>\n",
       "    </tr>\n",
       "    <tr>\n",
       "      <th>2</th>\n",
       "      <td>1</td>\n",
       "      <td>2</td>\n",
       "      <td>145</td>\n",
       "    </tr>\n",
       "    <tr>\n",
       "      <th>3</th>\n",
       "      <td>1</td>\n",
       "      <td>3</td>\n",
       "      <td>757</td>\n",
       "    </tr>\n",
       "    <tr>\n",
       "      <th>4</th>\n",
       "      <td>1</td>\n",
       "      <td>4</td>\n",
       "      <td>5</td>\n",
       "    </tr>\n",
       "    <tr>\n",
       "      <th>5</th>\n",
       "      <td>2</td>\n",
       "      <td>0</td>\n",
       "      <td>607</td>\n",
       "    </tr>\n",
       "    <tr>\n",
       "      <th>6</th>\n",
       "      <td>2</td>\n",
       "      <td>1</td>\n",
       "      <td>35</td>\n",
       "    </tr>\n",
       "    <tr>\n",
       "      <th>7</th>\n",
       "      <td>2</td>\n",
       "      <td>2</td>\n",
       "      <td>413</td>\n",
       "    </tr>\n",
       "    <tr>\n",
       "      <th>8</th>\n",
       "      <td>2</td>\n",
       "      <td>3</td>\n",
       "      <td>853</td>\n",
       "    </tr>\n",
       "    <tr>\n",
       "      <th>9</th>\n",
       "      <td>2</td>\n",
       "      <td>4</td>\n",
       "      <td>20</td>\n",
       "    </tr>\n",
       "    <tr>\n",
       "      <th>10</th>\n",
       "      <td>3</td>\n",
       "      <td>0</td>\n",
       "      <td>1063</td>\n",
       "    </tr>\n",
       "    <tr>\n",
       "      <th>11</th>\n",
       "      <td>3</td>\n",
       "      <td>1</td>\n",
       "      <td>178</td>\n",
       "    </tr>\n",
       "    <tr>\n",
       "      <th>12</th>\n",
       "      <td>3</td>\n",
       "      <td>2</td>\n",
       "      <td>1999</td>\n",
       "    </tr>\n",
       "    <tr>\n",
       "      <th>13</th>\n",
       "      <td>3</td>\n",
       "      <td>3</td>\n",
       "      <td>1411</td>\n",
       "    </tr>\n",
       "    <tr>\n",
       "      <th>14</th>\n",
       "      <td>3</td>\n",
       "      <td>4</td>\n",
       "      <td>127</td>\n",
       "    </tr>\n",
       "    <tr>\n",
       "      <th>15</th>\n",
       "      <td>4</td>\n",
       "      <td>0</td>\n",
       "      <td>661</td>\n",
       "    </tr>\n",
       "    <tr>\n",
       "      <th>16</th>\n",
       "      <td>4</td>\n",
       "      <td>1</td>\n",
       "      <td>409</td>\n",
       "    </tr>\n",
       "    <tr>\n",
       "      <th>17</th>\n",
       "      <td>4</td>\n",
       "      <td>2</td>\n",
       "      <td>6431</td>\n",
       "    </tr>\n",
       "    <tr>\n",
       "      <th>18</th>\n",
       "      <td>4</td>\n",
       "      <td>3</td>\n",
       "      <td>2157</td>\n",
       "    </tr>\n",
       "    <tr>\n",
       "      <th>19</th>\n",
       "      <td>4</td>\n",
       "      <td>4</td>\n",
       "      <td>418</td>\n",
       "    </tr>\n",
       "    <tr>\n",
       "      <th>20</th>\n",
       "      <td>5</td>\n",
       "      <td>0</td>\n",
       "      <td>685</td>\n",
       "    </tr>\n",
       "    <tr>\n",
       "      <th>21</th>\n",
       "      <td>5</td>\n",
       "      <td>1</td>\n",
       "      <td>883</td>\n",
       "    </tr>\n",
       "    <tr>\n",
       "      <th>22</th>\n",
       "      <td>5</td>\n",
       "      <td>2</td>\n",
       "      <td>16818</td>\n",
       "    </tr>\n",
       "    <tr>\n",
       "      <th>23</th>\n",
       "      <td>5</td>\n",
       "      <td>3</td>\n",
       "      <td>2815</td>\n",
       "    </tr>\n",
       "    <tr>\n",
       "      <th>24</th>\n",
       "      <td>5</td>\n",
       "      <td>4</td>\n",
       "      <td>693</td>\n",
       "    </tr>\n",
       "  </tbody>\n",
       "</table>\n",
       "</div>"
      ],
      "text/plain": [
       "    Rating  dominant_theme  count\n",
       "0        1               0    415\n",
       "1        1               1     16\n",
       "2        1               2    145\n",
       "3        1               3    757\n",
       "4        1               4      5\n",
       "5        2               0    607\n",
       "6        2               1     35\n",
       "7        2               2    413\n",
       "8        2               3    853\n",
       "9        2               4     20\n",
       "10       3               0   1063\n",
       "11       3               1    178\n",
       "12       3               2   1999\n",
       "13       3               3   1411\n",
       "14       3               4    127\n",
       "15       4               0    661\n",
       "16       4               1    409\n",
       "17       4               2   6431\n",
       "18       4               3   2157\n",
       "19       4               4    418\n",
       "20       5               0    685\n",
       "21       5               1    883\n",
       "22       5               2  16818\n",
       "23       5               3   2815\n",
       "24       5               4    693"
      ]
     },
     "execution_count": 57,
     "metadata": {},
     "output_type": "execute_result"
    }
   ],
   "source": [
    "ratingTheme = df_cleaned.groupby(['Rating', 'dominant_theme'])['dominant_theme'].count().reset_index(name='count')\n",
    "ratingTheme"
   ]
  },
  {
   "cell_type": "code",
   "execution_count": 58,
   "metadata": {},
   "outputs": [
    {
     "data": {
      "image/png": "[encoded data removed]",
      "text/plain": [
       "<Figure size 504x360 with 1 Axes>"
      ]
     },
     "metadata": {
      "needs_background": "light"
     },
     "output_type": "display_data"
    }
   ],
   "source": [
    "plt.figure(figsize = (7, 5))\n",
    "sns.barplot(x = 'Rating', y = 'count', hue = 'dominant_theme', data = ratingTheme)\n",
    "plt.title('Dominate Themes per Rating')\n",
    "plt.ylabel('No. of Reviews')\n",
    "plt.show()"
   ]
  },
  {
   "cell_type": "code",
   "execution_count": 59,
   "metadata": {},
   "outputs": [],
   "source": [
    "sia = SentimentIntensityAnalyzer()"
   ]
  },
  {
   "cell_type": "code",
   "execution_count": 60,
   "metadata": {},
   "outputs": [],
   "source": [
    "df_cleaned['pos'] = ''\n",
    "df_cleaned['neu'] = ''\n",
    "df_cleaned['neg'] = ''\n",
    "df_cleaned['sentiment'] = ''"
   ]
  },
  {
   "cell_type": "code",
   "execution_count": 61,
   "metadata": {},
   "outputs": [
    {
     "name": "stderr",
     "output_type": "stream",
     "text": [
      "<ipython-input-61-e952446d992c>:3: SettingWithCopyWarning: \n",
      "A value is trying to be set on a copy of a slice from a DataFrame\n",
      "\n",
      "See the caveats in the documentation: https://pandas.pydata.org/pandas-docs/stable/user_guide/indexing.html#returning-a-view-versus-a-copy\n",
      "  df_cleaned['pos'][i] = sentiment['pos']\n",
      "<ipython-input-61-e952446d992c>:4: SettingWithCopyWarning: \n",
      "A value is trying to be set on a copy of a slice from a DataFrame\n",
      "\n",
      "See the caveats in the documentation: https://pandas.pydata.org/pandas-docs/stable/user_guide/indexing.html#returning-a-view-versus-a-copy\n",
      "  df_cleaned['neu'][i] = sentiment['neu']\n",
      "<ipython-input-61-e952446d992c>:5: SettingWithCopyWarning: \n",
      "A value is trying to be set on a copy of a slice from a DataFrame\n",
      "\n",
      "See the caveats in the documentation: https://pandas.pydata.org/pandas-docs/stable/user_guide/indexing.html#returning-a-view-versus-a-copy\n",
      "  df_cleaned['neg'][i] = sentiment['neg']\n",
      "<ipython-input-61-e952446d992c>:6: SettingWithCopyWarning: \n",
      "A value is trying to be set on a copy of a slice from a DataFrame\n",
      "\n",
      "See the caveats in the documentation: https://pandas.pydata.org/pandas-docs/stable/user_guide/indexing.html#returning-a-view-versus-a-copy\n",
      "  df_cleaned['sentiment'][i] = sentiment['compound']\n"
     ]
    }
   ],
   "source": [
    "for i in range(len(df_cleaned)):\n",
    "    sentiment = sia.polarity_scores(df_cleaned['Review_Text'][i])\n",
    "    df_cleaned['pos'][i] = sentiment['pos']\n",
    "    df_cleaned['neu'][i] = sentiment['neu']\n",
    "    df_cleaned['neg'][i] = sentiment['neg']\n",
    "    df_cleaned['sentiment'][i] = sentiment['compound']"
   ]
  },
  {
   "cell_type": "code",
   "execution_count": 62,
   "metadata": {},
   "outputs": [
    {
     "data": {
      "text/html": [
       "<div>\n",
       "<style scoped>\n",
       "    .dataframe tbody tr th:only-of-type {\n",
       "        vertical-align: middle;\n",
       "    }\n",
       "\n",
       "    .dataframe tbody tr th {\n",
       "        vertical-align: top;\n",
       "    }\n",
       "\n",
       "    .dataframe thead th {\n",
       "        text-align: right;\n",
       "    }\n",
       "</style>\n",
       "<table border=\"1\" class=\"dataframe\">\n",
       "  <thead>\n",
       "    <tr style=\"text-align: right;\">\n",
       "      <th></th>\n",
       "      <th>Review_ID</th>\n",
       "      <th>Rating</th>\n",
       "      <th>Year_Month</th>\n",
       "      <th>Reviewer_Location</th>\n",
       "      <th>Review_Text</th>\n",
       "      <th>Branch</th>\n",
       "      <th>Year</th>\n",
       "      <th>Theme_0</th>\n",
       "      <th>Theme_1</th>\n",
       "      <th>Theme_2</th>\n",
       "      <th>Theme_3</th>\n",
       "      <th>Theme_4</th>\n",
       "      <th>dominant_theme</th>\n",
       "      <th>pos</th>\n",
       "      <th>neu</th>\n",
       "      <th>neg</th>\n",
       "      <th>sentiment</th>\n",
       "    </tr>\n",
       "  </thead>\n",
       "  <tbody>\n",
       "    <tr>\n",
       "      <th>0</th>\n",
       "      <td>670772142</td>\n",
       "      <td>4</td>\n",
       "      <td>2019-4</td>\n",
       "      <td>Australia</td>\n",
       "      <td>If you've ever been to Disneyland anywhere you...</td>\n",
       "      <td>HongKong</td>\n",
       "      <td>2019</td>\n",
       "      <td>0.01</td>\n",
       "      <td>0.01</td>\n",
       "      <td>0.50</td>\n",
       "      <td>0.01</td>\n",
       "      <td>0.48</td>\n",
       "      <td>2</td>\n",
       "      <td>0.113</td>\n",
       "      <td>0.887</td>\n",
       "      <td>0.0</td>\n",
       "      <td>0.7069</td>\n",
       "    </tr>\n",
       "    <tr>\n",
       "      <th>1</th>\n",
       "      <td>670682799</td>\n",
       "      <td>4</td>\n",
       "      <td>2019-5</td>\n",
       "      <td>Philippines</td>\n",
       "      <td>Its been a while since d last time we visit HK...</td>\n",
       "      <td>HongKong</td>\n",
       "      <td>2019</td>\n",
       "      <td>0.14</td>\n",
       "      <td>0.25</td>\n",
       "      <td>0.39</td>\n",
       "      <td>0.00</td>\n",
       "      <td>0.22</td>\n",
       "      <td>2</td>\n",
       "      <td>0.231</td>\n",
       "      <td>0.73</td>\n",
       "      <td>0.04</td>\n",
       "      <td>0.9901</td>\n",
       "    </tr>\n",
       "    <tr>\n",
       "      <th>2</th>\n",
       "      <td>670623270</td>\n",
       "      <td>4</td>\n",
       "      <td>2019-4</td>\n",
       "      <td>United Arab Emirates</td>\n",
       "      <td>Thanks God it wasn   t too hot or too humid wh...</td>\n",
       "      <td>HongKong</td>\n",
       "      <td>2019</td>\n",
       "      <td>0.00</td>\n",
       "      <td>0.00</td>\n",
       "      <td>0.75</td>\n",
       "      <td>0.24</td>\n",
       "      <td>0.00</td>\n",
       "      <td>2</td>\n",
       "      <td>0.235</td>\n",
       "      <td>0.742</td>\n",
       "      <td>0.024</td>\n",
       "      <td>0.992</td>\n",
       "    </tr>\n",
       "    <tr>\n",
       "      <th>3</th>\n",
       "      <td>670607911</td>\n",
       "      <td>4</td>\n",
       "      <td>2019-4</td>\n",
       "      <td>Australia</td>\n",
       "      <td>HK Disneyland is a great compact park. Unfortu...</td>\n",
       "      <td>HongKong</td>\n",
       "      <td>2019</td>\n",
       "      <td>0.00</td>\n",
       "      <td>0.39</td>\n",
       "      <td>0.41</td>\n",
       "      <td>0.12</td>\n",
       "      <td>0.07</td>\n",
       "      <td>2</td>\n",
       "      <td>0.16</td>\n",
       "      <td>0.76</td>\n",
       "      <td>0.08</td>\n",
       "      <td>0.8489</td>\n",
       "    </tr>\n",
       "    <tr>\n",
       "      <th>4</th>\n",
       "      <td>670607296</td>\n",
       "      <td>4</td>\n",
       "      <td>2019-4</td>\n",
       "      <td>United Kingdom</td>\n",
       "      <td>the location is not in the city, took around 1...</td>\n",
       "      <td>HongKong</td>\n",
       "      <td>2019</td>\n",
       "      <td>0.01</td>\n",
       "      <td>0.01</td>\n",
       "      <td>0.95</td>\n",
       "      <td>0.01</td>\n",
       "      <td>0.01</td>\n",
       "      <td>2</td>\n",
       "      <td>0.101</td>\n",
       "      <td>0.899</td>\n",
       "      <td>0.0</td>\n",
       "      <td>0.2846</td>\n",
       "    </tr>\n",
       "  </tbody>\n",
       "</table>\n",
       "</div>"
      ],
      "text/plain": [
       "   Review_ID  Rating Year_Month     Reviewer_Location  \\\n",
       "0  670772142       4     2019-4             Australia   \n",
       "1  670682799       4     2019-5           Philippines   \n",
       "2  670623270       4     2019-4  United Arab Emirates   \n",
       "3  670607911       4     2019-4             Australia   \n",
       "4  670607296       4     2019-4        United Kingdom   \n",
       "\n",
       "                                         Review_Text    Branch  Year  Theme_0  \\\n",
       "0  If you've ever been to Disneyland anywhere you...  HongKong  2019     0.01   \n",
       "1  Its been a while since d last time we visit HK...  HongKong  2019     0.14   \n",
       "2  Thanks God it wasn   t too hot or too humid wh...  HongKong  2019     0.00   \n",
       "3  HK Disneyland is a great compact park. Unfortu...  HongKong  2019     0.00   \n",
       "4  the location is not in the city, took around 1...  HongKong  2019     0.01   \n",
       "\n",
       "   Theme_1  Theme_2  Theme_3  Theme_4  dominant_theme    pos    neu    neg  \\\n",
       "0     0.01     0.50     0.01     0.48               2  0.113  0.887    0.0   \n",
       "1     0.25     0.39     0.00     0.22               2  0.231   0.73   0.04   \n",
       "2     0.00     0.75     0.24     0.00               2  0.235  0.742  0.024   \n",
       "3     0.39     0.41     0.12     0.07               2   0.16   0.76   0.08   \n",
       "4     0.01     0.95     0.01     0.01               2  0.101  0.899    0.0   \n",
       "\n",
       "  sentiment  \n",
       "0    0.7069  \n",
       "1    0.9901  \n",
       "2     0.992  \n",
       "3    0.8489  \n",
       "4    0.2846  "
      ]
     },
     "execution_count": 62,
     "metadata": {},
     "output_type": "execute_result"
    }
   ],
   "source": [
    "df_cleaned.head()"
   ]
  },
  {
   "cell_type": "code",
   "execution_count": 63,
   "metadata": {},
   "outputs": [
    {
     "data": {
      "image/png": "[encoded data removed]",
      "text/plain": [
       "<Figure size 432x288 with 1 Axes>"
      ]
     },
     "metadata": {
      "needs_background": "light"
     },
     "output_type": "display_data"
    }
   ],
   "source": [
    "#create a histogram for positive sentiment\n",
    "plt.hist(df_cleaned['pos'])\n",
    "plt.title('Histogram of Positive Sentiment')\n",
    "plt.xlabel('% Positive Sentiment')\n",
    "plt.ylabel('No. of Reviews')\n",
    "plt.show()"
   ]
  },
  {
   "cell_type": "code",
   "execution_count": 64,
   "metadata": {},
   "outputs": [
    {
     "data": {
      "image/png": "[encoded data removed]",
      "text/plain": [
       "<Figure size 432x288 with 1 Axes>"
      ]
     },
     "metadata": {
      "needs_background": "light"
     },
     "output_type": "display_data"
    }
   ],
   "source": [
    "#create a histogram for neutral sentiment\n",
    "plt.hist(df_cleaned['neu'])\n",
    "plt.title('Histogram of Neutral Sentiment')\n",
    "plt.xlabel('% Neutral Sentiment')\n",
    "plt.ylabel('No. of Reviews')\n",
    "plt.show()"
   ]
  },
  {
   "cell_type": "code",
   "execution_count": 65,
   "metadata": {},
   "outputs": [
    {
     "data": {
      "image/png": "[encoded data removed]",
      "text/plain": [
       "<Figure size 432x288 with 1 Axes>"
      ]
     },
     "metadata": {
      "needs_background": "light"
     },
     "output_type": "display_data"
    }
   ],
   "source": [
    "#create a histogram for neutral sentiment\n",
    "plt.hist(df_cleaned['neg'])\n",
    "plt.title('Histogram of Negative Sentiment')\n",
    "plt.xlabel('% Negative Sentiment')\n",
    "plt.ylabel('No. of Reviews')\n",
    "plt.show()"
   ]
  },
  {
   "cell_type": "code",
   "execution_count": 66,
   "metadata": {},
   "outputs": [
    {
     "data": {
      "image/png": "[encoded data removed]",
      "text/plain": [
       "<Figure size 432x288 with 1 Axes>"
      ]
     },
     "metadata": {
      "needs_background": "light"
     },
     "output_type": "display_data"
    }
   ],
   "source": [
    "#create a histogram for neutral sentiment\n",
    "plt.hist(df_cleaned['sentiment'])\n",
    "plt.title('Histogram of Sentiment')\n",
    "plt.xlabel('Sentiment Score')\n",
    "plt.ylabel('No. of Reviews')\n",
    "plt.show()"
   ]
  },
  {
   "cell_type": "code",
   "execution_count": 67,
   "metadata": {},
   "outputs": [
    {
     "data": {
      "text/plain": [
       "Index(['Review_ID', 'Rating', 'Year_Month', 'Reviewer_Location', 'Review_Text',\n",
       "       'Branch', 'Year', 'Theme_0', 'Theme_1', 'Theme_2', 'Theme_3', 'Theme_4',\n",
       "       'dominant_theme', 'pos', 'neu', 'neg', 'sentiment'],\n",
       "      dtype='object')"
      ]
     },
     "execution_count": 67,
     "metadata": {},
     "output_type": "execute_result"
    }
   ],
   "source": [
    "df_cleaned.columns"
   ]
  },
  {
   "cell_type": "code",
   "execution_count": 68,
   "metadata": {},
   "outputs": [
    {
     "data": {
      "text/html": [
       "<div>\n",
       "<style scoped>\n",
       "    .dataframe tbody tr th:only-of-type {\n",
       "        vertical-align: middle;\n",
       "    }\n",
       "\n",
       "    .dataframe tbody tr th {\n",
       "        vertical-align: top;\n",
       "    }\n",
       "\n",
       "    .dataframe thead th {\n",
       "        text-align: right;\n",
       "    }\n",
       "</style>\n",
       "<table border=\"1\" class=\"dataframe\">\n",
       "  <thead>\n",
       "    <tr style=\"text-align: right;\">\n",
       "      <th></th>\n",
       "      <th>Theme_0</th>\n",
       "      <th>Theme_1</th>\n",
       "      <th>Theme_2</th>\n",
       "      <th>Theme_3</th>\n",
       "      <th>Theme_4</th>\n",
       "      <th>pos</th>\n",
       "      <th>neu</th>\n",
       "      <th>neg</th>\n",
       "      <th>sentiment</th>\n",
       "    </tr>\n",
       "  </thead>\n",
       "  <tbody>\n",
       "    <tr>\n",
       "      <th>0</th>\n",
       "      <td>0.01</td>\n",
       "      <td>0.01</td>\n",
       "      <td>0.50</td>\n",
       "      <td>0.01</td>\n",
       "      <td>0.48</td>\n",
       "      <td>0.113</td>\n",
       "      <td>0.887</td>\n",
       "      <td>0.0</td>\n",
       "      <td>0.7069</td>\n",
       "    </tr>\n",
       "    <tr>\n",
       "      <th>1</th>\n",
       "      <td>0.14</td>\n",
       "      <td>0.25</td>\n",
       "      <td>0.39</td>\n",
       "      <td>0.00</td>\n",
       "      <td>0.22</td>\n",
       "      <td>0.231</td>\n",
       "      <td>0.73</td>\n",
       "      <td>0.04</td>\n",
       "      <td>0.9901</td>\n",
       "    </tr>\n",
       "    <tr>\n",
       "      <th>2</th>\n",
       "      <td>0.00</td>\n",
       "      <td>0.00</td>\n",
       "      <td>0.75</td>\n",
       "      <td>0.24</td>\n",
       "      <td>0.00</td>\n",
       "      <td>0.235</td>\n",
       "      <td>0.742</td>\n",
       "      <td>0.024</td>\n",
       "      <td>0.992</td>\n",
       "    </tr>\n",
       "    <tr>\n",
       "      <th>3</th>\n",
       "      <td>0.00</td>\n",
       "      <td>0.39</td>\n",
       "      <td>0.41</td>\n",
       "      <td>0.12</td>\n",
       "      <td>0.07</td>\n",
       "      <td>0.16</td>\n",
       "      <td>0.76</td>\n",
       "      <td>0.08</td>\n",
       "      <td>0.8489</td>\n",
       "    </tr>\n",
       "    <tr>\n",
       "      <th>4</th>\n",
       "      <td>0.01</td>\n",
       "      <td>0.01</td>\n",
       "      <td>0.95</td>\n",
       "      <td>0.01</td>\n",
       "      <td>0.01</td>\n",
       "      <td>0.101</td>\n",
       "      <td>0.899</td>\n",
       "      <td>0.0</td>\n",
       "      <td>0.2846</td>\n",
       "    </tr>\n",
       "  </tbody>\n",
       "</table>\n",
       "</div>"
      ],
      "text/plain": [
       "   Theme_0  Theme_1  Theme_2  Theme_3  Theme_4    pos    neu    neg sentiment\n",
       "0     0.01     0.01     0.50     0.01     0.48  0.113  0.887    0.0    0.7069\n",
       "1     0.14     0.25     0.39     0.00     0.22  0.231   0.73   0.04    0.9901\n",
       "2     0.00     0.00     0.75     0.24     0.00  0.235  0.742  0.024     0.992\n",
       "3     0.00     0.39     0.41     0.12     0.07   0.16   0.76   0.08    0.8489\n",
       "4     0.01     0.01     0.95     0.01     0.01  0.101  0.899    0.0    0.2846"
      ]
     },
     "execution_count": 68,
     "metadata": {},
     "output_type": "execute_result"
    }
   ],
   "source": [
    "df_cleaned[['Theme_0', 'Theme_1', 'Theme_2', 'Theme_3', 'Theme_4', 'pos', 'neu', 'neg', 'sentiment']].head()"
   ]
  },
  {
   "cell_type": "code",
   "execution_count": 69,
   "metadata": {},
   "outputs": [],
   "source": [
    "df_cleaned = df_cleaned.astype({'pos': 'float64', 'neu': 'float64', 'neg': 'float64', 'sentiment': 'float64'})"
   ]
  },
  {
   "cell_type": "code",
   "execution_count": 70,
   "metadata": {},
   "outputs": [],
   "source": [
    "corr_matrix = df_cleaned[['Theme_0', 'Theme_1', 'Theme_2', 'Theme_3', 'Theme_4', 'dominant_theme', 'pos', 'neu', 'neg', 'sentiment']].corr()"
   ]
  },
  {
   "cell_type": "code",
   "execution_count": 71,
   "metadata": {},
   "outputs": [
    {
     "data": {
      "text/plain": [
       "Review_ID              int64\n",
       "Rating                 int64\n",
       "Year_Month            object\n",
       "Reviewer_Location     object\n",
       "Review_Text           object\n",
       "Branch                object\n",
       "Year                  object\n",
       "Theme_0              float64\n",
       "Theme_1              float64\n",
       "Theme_2              float64\n",
       "Theme_3              float64\n",
       "Theme_4              float64\n",
       "dominant_theme         int64\n",
       "pos                  float64\n",
       "neu                  float64\n",
       "neg                  float64\n",
       "sentiment            float64\n",
       "dtype: object"
      ]
     },
     "execution_count": 71,
     "metadata": {},
     "output_type": "execute_result"
    }
   ],
   "source": [
    "df_cleaned.dtypes"
   ]
  },
  {
   "cell_type": "code",
   "execution_count": 72,
   "metadata": {},
   "outputs": [
    {
     "data": {
      "text/html": [
       "<div>\n",
       "<style scoped>\n",
       "    .dataframe tbody tr th:only-of-type {\n",
       "        vertical-align: middle;\n",
       "    }\n",
       "\n",
       "    .dataframe tbody tr th {\n",
       "        vertical-align: top;\n",
       "    }\n",
       "\n",
       "    .dataframe thead th {\n",
       "        text-align: right;\n",
       "    }\n",
       "</style>\n",
       "<table border=\"1\" class=\"dataframe\">\n",
       "  <thead>\n",
       "    <tr style=\"text-align: right;\">\n",
       "      <th></th>\n",
       "      <th>Theme_0</th>\n",
       "      <th>Theme_1</th>\n",
       "      <th>Theme_2</th>\n",
       "      <th>Theme_3</th>\n",
       "      <th>Theme_4</th>\n",
       "      <th>dominant_theme</th>\n",
       "      <th>pos</th>\n",
       "      <th>neu</th>\n",
       "      <th>neg</th>\n",
       "      <th>sentiment</th>\n",
       "    </tr>\n",
       "  </thead>\n",
       "  <tbody>\n",
       "    <tr>\n",
       "      <th>Theme_0</th>\n",
       "      <td>1.000000</td>\n",
       "      <td>-0.054428</td>\n",
       "      <td>-0.463371</td>\n",
       "      <td>-0.015793</td>\n",
       "      <td>-0.159876</td>\n",
       "      <td>-0.490246</td>\n",
       "      <td>-0.229741</td>\n",
       "      <td>0.062558</td>\n",
       "      <td>0.372891</td>\n",
       "      <td>-0.302059</td>\n",
       "    </tr>\n",
       "    <tr>\n",
       "      <th>Theme_1</th>\n",
       "      <td>-0.054428</td>\n",
       "      <td>1.000000</td>\n",
       "      <td>-0.314383</td>\n",
       "      <td>-0.116472</td>\n",
       "      <td>-0.018152</td>\n",
       "      <td>-0.177924</td>\n",
       "      <td>-0.043705</td>\n",
       "      <td>0.019335</td>\n",
       "      <td>0.055609</td>\n",
       "      <td>-0.006793</td>\n",
       "    </tr>\n",
       "    <tr>\n",
       "      <th>Theme_2</th>\n",
       "      <td>-0.463371</td>\n",
       "      <td>-0.314383</td>\n",
       "      <td>1.000000</td>\n",
       "      <td>-0.646494</td>\n",
       "      <td>-0.244164</td>\n",
       "      <td>-0.051791</td>\n",
       "      <td>0.469699</td>\n",
       "      <td>-0.333988</td>\n",
       "      <td>-0.338156</td>\n",
       "      <td>0.297560</td>\n",
       "    </tr>\n",
       "    <tr>\n",
       "      <th>Theme_3</th>\n",
       "      <td>-0.015793</td>\n",
       "      <td>-0.116472</td>\n",
       "      <td>-0.646494</td>\n",
       "      <td>1.000000</td>\n",
       "      <td>-0.119830</td>\n",
       "      <td>0.381317</td>\n",
       "      <td>-0.403601</td>\n",
       "      <td>0.347169</td>\n",
       "      <td>0.166697</td>\n",
       "      <td>-0.208747</td>\n",
       "    </tr>\n",
       "    <tr>\n",
       "      <th>Theme_4</th>\n",
       "      <td>-0.159876</td>\n",
       "      <td>-0.018152</td>\n",
       "      <td>-0.244164</td>\n",
       "      <td>-0.119830</td>\n",
       "      <td>1.000000</td>\n",
       "      <td>0.276138</td>\n",
       "      <td>-0.028946</td>\n",
       "      <td>0.058885</td>\n",
       "      <td>-0.057972</td>\n",
       "      <td>0.080578</td>\n",
       "    </tr>\n",
       "    <tr>\n",
       "      <th>dominant_theme</th>\n",
       "      <td>-0.490246</td>\n",
       "      <td>-0.177924</td>\n",
       "      <td>-0.051791</td>\n",
       "      <td>0.381317</td>\n",
       "      <td>0.276138</td>\n",
       "      <td>1.000000</td>\n",
       "      <td>-0.043330</td>\n",
       "      <td>0.114136</td>\n",
       "      <td>-0.140335</td>\n",
       "      <td>0.099736</td>\n",
       "    </tr>\n",
       "    <tr>\n",
       "      <th>pos</th>\n",
       "      <td>-0.229741</td>\n",
       "      <td>-0.043705</td>\n",
       "      <td>0.469699</td>\n",
       "      <td>-0.403601</td>\n",
       "      <td>-0.028946</td>\n",
       "      <td>-0.043330</td>\n",
       "      <td>1.000000</td>\n",
       "      <td>-0.890501</td>\n",
       "      <td>-0.350555</td>\n",
       "      <td>0.540413</td>\n",
       "    </tr>\n",
       "    <tr>\n",
       "      <th>neu</th>\n",
       "      <td>0.062558</td>\n",
       "      <td>0.019335</td>\n",
       "      <td>-0.333988</td>\n",
       "      <td>0.347169</td>\n",
       "      <td>0.058885</td>\n",
       "      <td>0.114136</td>\n",
       "      <td>-0.890501</td>\n",
       "      <td>1.000000</td>\n",
       "      <td>-0.113921</td>\n",
       "      <td>-0.268782</td>\n",
       "    </tr>\n",
       "    <tr>\n",
       "      <th>neg</th>\n",
       "      <td>0.372891</td>\n",
       "      <td>0.055609</td>\n",
       "      <td>-0.338156</td>\n",
       "      <td>0.166697</td>\n",
       "      <td>-0.057972</td>\n",
       "      <td>-0.140335</td>\n",
       "      <td>-0.350555</td>\n",
       "      <td>-0.113921</td>\n",
       "      <td>1.000000</td>\n",
       "      <td>-0.626775</td>\n",
       "    </tr>\n",
       "    <tr>\n",
       "      <th>sentiment</th>\n",
       "      <td>-0.302059</td>\n",
       "      <td>-0.006793</td>\n",
       "      <td>0.297560</td>\n",
       "      <td>-0.208747</td>\n",
       "      <td>0.080578</td>\n",
       "      <td>0.099736</td>\n",
       "      <td>0.540413</td>\n",
       "      <td>-0.268782</td>\n",
       "      <td>-0.626775</td>\n",
       "      <td>1.000000</td>\n",
       "    </tr>\n",
       "  </tbody>\n",
       "</table>\n",
       "</div>"
      ],
      "text/plain": [
       "                 Theme_0   Theme_1   Theme_2   Theme_3   Theme_4  \\\n",
       "Theme_0         1.000000 -0.054428 -0.463371 -0.015793 -0.159876   \n",
       "Theme_1        -0.054428  1.000000 -0.314383 -0.116472 -0.018152   \n",
       "Theme_2        -0.463371 -0.314383  1.000000 -0.646494 -0.244164   \n",
       "Theme_3        -0.015793 -0.116472 -0.646494  1.000000 -0.119830   \n",
       "Theme_4        -0.159876 -0.018152 -0.244164 -0.119830  1.000000   \n",
       "dominant_theme -0.490246 -0.177924 -0.051791  0.381317  0.276138   \n",
       "pos            -0.229741 -0.043705  0.469699 -0.403601 -0.028946   \n",
       "neu             0.062558  0.019335 -0.333988  0.347169  0.058885   \n",
       "neg             0.372891  0.055609 -0.338156  0.166697 -0.057972   \n",
       "sentiment      -0.302059 -0.006793  0.297560 -0.208747  0.080578   \n",
       "\n",
       "                dominant_theme       pos       neu       neg  sentiment  \n",
       "Theme_0              -0.490246 -0.229741  0.062558  0.372891  -0.302059  \n",
       "Theme_1              -0.177924 -0.043705  0.019335  0.055609  -0.006793  \n",
       "Theme_2              -0.051791  0.469699 -0.333988 -0.338156   0.297560  \n",
       "Theme_3               0.381317 -0.403601  0.347169  0.166697  -0.208747  \n",
       "Theme_4               0.276138 -0.028946  0.058885 -0.057972   0.080578  \n",
       "dominant_theme        1.000000 -0.043330  0.114136 -0.140335   0.099736  \n",
       "pos                  -0.043330  1.000000 -0.890501 -0.350555   0.540413  \n",
       "neu                   0.114136 -0.890501  1.000000 -0.113921  -0.268782  \n",
       "neg                  -0.140335 -0.350555 -0.113921  1.000000  -0.626775  \n",
       "sentiment             0.099736  0.540413 -0.268782 -0.626775   1.000000  "
      ]
     },
     "execution_count": 72,
     "metadata": {},
     "output_type": "execute_result"
    }
   ],
   "source": [
    "corr_matrix"
   ]
  },
  {
   "cell_type": "code",
   "execution_count": 73,
   "metadata": {},
   "outputs": [
    {
     "data": {
      "image/png": "[encoded data removed]",
      "text/plain": [
       "<Figure size 504x360 with 2 Axes>"
      ]
     },
     "metadata": {
      "needs_background": "light"
     },
     "output_type": "display_data"
    }
   ],
   "source": [
    "plt = reload(plt)\n",
    "plt.figure(figsize = (7, 5))\n",
    "sns.heatmap(corr_matrix, cmap='coolwarm', annot=True)\n",
    "plt.title('Correlation Matrix for Disneyland Reviews', pad=25)\n",
    "plt.show()"
   ]
  },
  {
   "cell_type": "code",
   "execution_count": 74,
   "metadata": {},
   "outputs": [],
   "source": [
    "#remove neutral sentiment score\n",
    "df_cleaned = df_cleaned[['Review_ID', 'Rating', 'Year_Month', 'Reviewer_Location', 'Review_Text',\n",
    "       'Branch', 'Year', 'Theme_0', 'Theme_1', 'Theme_2', 'Theme_3', 'Theme_4',\n",
    "       'dominant_theme', 'pos', 'neg', 'sentiment']]"
   ]
  },
  {
   "cell_type": "code",
   "execution_count": 75,
   "metadata": {},
   "outputs": [],
   "source": [
    "df_trim = df_cleaned.copy()"
   ]
  },
  {
   "cell_type": "code",
   "execution_count": 76,
   "metadata": {},
   "outputs": [
    {
     "data": {
      "image/png": "[encoded data removed]",
      "text/plain": [
       "<Figure size 504x360 with 1 Axes>"
      ]
     },
     "metadata": {
      "needs_background": "light"
     },
     "output_type": "display_data"
    }
   ],
   "source": [
    "plt.figure(figsize = (7, 5))\n",
    "\n",
    "rating1 = df_trim[df_trim['Rating'] == 1]['sentiment']\n",
    "rating2 = df_trim[df_trim['Rating'] == 2]['sentiment']\n",
    "rating3 = df_trim[df_trim['Rating'] == 3]['sentiment']\n",
    "rating4 = df_trim[df_trim['Rating'] == 4]['sentiment']\n",
    "rating5 = df_trim[df_trim['Rating'] == 5]['sentiment']\n",
    "\n",
    "plt.boxplot([rating1, rating2, rating3, rating4, rating5])\n",
    "plt.title('Boxplots of Sentiment per Rating')\n",
    "plt.xlabel('Rating')\n",
    "plt.ylabel('Sentiment')\n",
    "plt.show()\n"
   ]
  },
  {
   "cell_type": "code",
   "execution_count": 77,
   "metadata": {},
   "outputs": [
    {
     "data": {
      "text/plain": [
       "0.29835000000000006"
      ]
     },
     "execution_count": 77,
     "metadata": {},
     "output_type": "execute_result"
    }
   ],
   "source": [
    "#Calculate the Lower Fence for the Rating 4\n",
    "rating4_q1 = df_trim[df_trim['Rating'] == 4]['sentiment'].quantile(0.25)\n",
    "rating4_q3 = df_trim[df_trim['Rating'] == 4]['sentiment'].quantile(0.75)\n",
    "rating4_IQR = rating4_q3 - rating4_q1\n",
    "rating4_lowerFloor = rating4_q1 - (1.5 * rating4_IQR)\n",
    "rating4_lowerFloor\n"
   ]
  },
  {
   "cell_type": "code",
   "execution_count": 78,
   "metadata": {},
   "outputs": [
    {
     "data": {
      "text/plain": [
       "0.5338500000000002"
      ]
     },
     "execution_count": 78,
     "metadata": {},
     "output_type": "execute_result"
    }
   ],
   "source": [
    "#Calculate the Lower Fence for the Rating 5\n",
    "rating5_q1 = df_trim[df_trim['Rating'] == 5]['sentiment'].quantile(0.25)\n",
    "rating5_q3 = df_trim[df_trim['Rating'] == 5]['sentiment'].quantile(0.75)\n",
    "rating5_IQR = rating5_q3 - rating5_q1\n",
    "rating5_lowerFloor = rating5_q1 - (1.5 * rating5_IQR)\n",
    "rating5_lowerFloor"
   ]
  },
  {
   "cell_type": "code",
   "execution_count": 79,
   "metadata": {},
   "outputs": [
    {
     "data": {
      "text/plain": [
       "40014"
      ]
     },
     "execution_count": 79,
     "metadata": {},
     "output_type": "execute_result"
    }
   ],
   "source": [
    "len(df_trim)"
   ]
  },
  {
   "cell_type": "code",
   "execution_count": 80,
   "metadata": {},
   "outputs": [],
   "source": [
    "#remove outliers for Rating class 5\n",
    "df_trim = df_trim.drop(df_trim[(df_trim.Rating == 5) & (df_trim.sentiment < rating5_lowerFloor)].index).reset_index(drop=True)"
   ]
  },
  {
   "cell_type": "code",
   "execution_count": 81,
   "metadata": {},
   "outputs": [
    {
     "data": {
      "text/plain": [
       "37663"
      ]
     },
     "execution_count": 81,
     "metadata": {},
     "output_type": "execute_result"
    }
   ],
   "source": [
    "len(df_trim)"
   ]
  },
  {
   "cell_type": "code",
   "execution_count": 82,
   "metadata": {},
   "outputs": [],
   "source": [
    "#remove outliers for Rating class 4\n",
    "df_trim = df_trim.drop(df_trim[(df_trim.Rating == 4) & (df_trim.sentiment < rating4_lowerFloor)].index).reset_index(drop=True)"
   ]
  },
  {
   "cell_type": "code",
   "execution_count": 83,
   "metadata": {},
   "outputs": [
    {
     "data": {
      "text/plain": [
       "36459"
      ]
     },
     "execution_count": 83,
     "metadata": {},
     "output_type": "execute_result"
    }
   ],
   "source": [
    "len(df_trim)"
   ]
  },
  {
   "cell_type": "code",
   "execution_count": 84,
   "metadata": {},
   "outputs": [
    {
     "data": {
      "image/png": "[encoded data removed]",
      "text/plain": [
       "<Figure size 432x288 with 1 Axes>"
      ]
     },
     "metadata": {
      "needs_background": "light"
     },
     "output_type": "display_data"
    }
   ],
   "source": [
    "#create boxplot for Theme 0\n",
    "rating1 = df_trim[df_trim['Rating'] == 1]['Theme_0']\n",
    "rating2 = df_trim[df_trim['Rating'] == 2]['Theme_0']\n",
    "rating3 = df_trim[df_trim['Rating'] == 3]['Theme_0']\n",
    "rating4 = df_trim[df_trim['Rating'] == 4]['Theme_0']\n",
    "rating5 = df_trim[df_trim['Rating'] == 5]['Theme_0']\n",
    "\n",
    "plt.boxplot([rating1, rating2, rating3, rating4, rating5])\n",
    "plt.title('Boxplots of Theme 0 per Rating')\n",
    "plt.xlabel('Rating')\n",
    "plt.ylabel('Theme 0 Score')\n",
    "plt.show()\n"
   ]
  },
  {
   "cell_type": "code",
   "execution_count": 85,
   "metadata": {},
   "outputs": [
    {
     "data": {
      "text/plain": [
       "0.7649999999999999"
      ]
     },
     "execution_count": 85,
     "metadata": {},
     "output_type": "execute_result"
    }
   ],
   "source": [
    "#Calculate Upper Floor for Rating 1 Theme 0\n",
    "theme0Rating1_q1 = df_trim[df_trim['Rating'] == 1]['Theme_0'].quantile(0.25)\n",
    "theme0Rating1_q3 = df_trim[df_trim['Rating'] == 1]['Theme_0'].quantile(0.75)\n",
    "theme0Rating1_IQR = theme0Rating1_q3 - theme0Rating1_q1\n",
    "theme0Rating1_upperFloor = theme0Rating1_q3 + (1.5 * theme0Rating1_IQR)\n",
    "theme0Rating1_upperFloor"
   ]
  },
  {
   "cell_type": "code",
   "execution_count": 86,
   "metadata": {},
   "outputs": [],
   "source": [
    "#Remove outliers from Rating 1 Theme_0\n",
    "df_trim = df_trim.drop(df_trim[(df_trim.Rating == 1) & (df_trim.Theme_0 > theme0Rating1_upperFloor)].index).reset_index(drop=True)"
   ]
  },
  {
   "cell_type": "code",
   "execution_count": 87,
   "metadata": {},
   "outputs": [
    {
     "data": {
      "text/plain": [
       "36449"
      ]
     },
     "execution_count": 87,
     "metadata": {},
     "output_type": "execute_result"
    }
   ],
   "source": [
    "len(df_trim)"
   ]
  },
  {
   "cell_type": "code",
   "execution_count": 88,
   "metadata": {},
   "outputs": [
    {
     "data": {
      "text/plain": [
       "0.825"
      ]
     },
     "execution_count": 88,
     "metadata": {},
     "output_type": "execute_result"
    }
   ],
   "source": [
    "#Calculate Upper Floor for Rating 2 Theme 0\n",
    "theme0Rating2_q1 = df_trim[df_trim['Rating'] == 2]['Theme_0'].quantile(0.25)\n",
    "theme0Rating2_q3 = df_trim[df_trim['Rating'] == 2]['Theme_0'].quantile(0.75)\n",
    "theme0Rating2_IQR = theme0Rating2_q3 - theme0Rating2_q1\n",
    "theme0Rating2_upperFloor = theme0Rating2_q3 + (1.5 * theme0Rating2_IQR)\n",
    "theme0Rating2_upperFloor"
   ]
  },
  {
   "cell_type": "code",
   "execution_count": 89,
   "metadata": {},
   "outputs": [],
   "source": [
    "#Remove outliers from Rating 2 Theme_0\n",
    "df_trim = df_trim.drop(df_trim[(df_trim.Rating == 2) & (df_trim.Theme_0 > theme0Rating2_upperFloor)].index).reset_index(drop=True)"
   ]
  },
  {
   "cell_type": "code",
   "execution_count": 90,
   "metadata": {},
   "outputs": [
    {
     "data": {
      "text/plain": [
       "36438"
      ]
     },
     "execution_count": 90,
     "metadata": {},
     "output_type": "execute_result"
    }
   ],
   "source": [
    "len(df_trim)"
   ]
  },
  {
   "cell_type": "code",
   "execution_count": 91,
   "metadata": {},
   "outputs": [
    {
     "data": {
      "text/plain": [
       "0.815"
      ]
     },
     "execution_count": 91,
     "metadata": {},
     "output_type": "execute_result"
    }
   ],
   "source": [
    "#Calculate Upper Floor for Rating 3 Theme 0\n",
    "theme0Rating3_q1 = df_trim[df_trim['Rating'] == 3]['Theme_0'].quantile(0.25)\n",
    "theme0Rating3_q3 = df_trim[df_trim['Rating'] == 3]['Theme_0'].quantile(0.75)\n",
    "theme0Rating3_IQR = theme0Rating3_q3 - theme0Rating3_q1\n",
    "theme0Rating3_upperFloor = theme0Rating3_q3 + (1.5 * theme0Rating3_IQR)\n",
    "theme0Rating3_upperFloor"
   ]
  },
  {
   "cell_type": "code",
   "execution_count": 92,
   "metadata": {},
   "outputs": [],
   "source": [
    "#Remove outliers from Rating 3 Theme_0\n",
    "df_trim = df_trim.drop(df_trim[(df_trim.Rating == 3) & (df_trim.Theme_0 > theme0Rating3_upperFloor)].index).reset_index(drop=True)"
   ]
  },
  {
   "cell_type": "code",
   "execution_count": 93,
   "metadata": {},
   "outputs": [
    {
     "data": {
      "text/plain": [
       "36422"
      ]
     },
     "execution_count": 93,
     "metadata": {},
     "output_type": "execute_result"
    }
   ],
   "source": [
    "len(df_trim)"
   ]
  },
  {
   "cell_type": "code",
   "execution_count": 94,
   "metadata": {},
   "outputs": [
    {
     "data": {
      "text/plain": [
       "0.435"
      ]
     },
     "execution_count": 94,
     "metadata": {},
     "output_type": "execute_result"
    }
   ],
   "source": [
    "#Calculate Upper Floor for Rating 4 Theme 0\n",
    "theme0Rating4_q1 = df_trim[df_trim['Rating'] == 4]['Theme_0'].quantile(0.25)\n",
    "theme0Rating4_q3 = df_trim[df_trim['Rating'] == 4]['Theme_0'].quantile(0.75)\n",
    "theme0Rating4_IQR = theme0Rating4_q3 - theme0Rating4_q1\n",
    "theme0Rating4_upperFloor = theme0Rating4_q3 + (1.5 * theme0Rating4_IQR)\n",
    "theme0Rating4_upperFloor"
   ]
  },
  {
   "cell_type": "code",
   "execution_count": 95,
   "metadata": {},
   "outputs": [],
   "source": [
    "#Remove outliers from Rating 3 Theme_0\n",
    "df_trim = df_trim.drop(df_trim[(df_trim.Rating == 4) & (df_trim.Theme_0 > theme0Rating4_upperFloor)].index).reset_index(drop=True)"
   ]
  },
  {
   "cell_type": "code",
   "execution_count": 96,
   "metadata": {},
   "outputs": [
    {
     "data": {
      "text/plain": [
       "36154"
      ]
     },
     "execution_count": 96,
     "metadata": {},
     "output_type": "execute_result"
    }
   ],
   "source": [
    "len(df_trim)"
   ]
  },
  {
   "cell_type": "code",
   "execution_count": 97,
   "metadata": {},
   "outputs": [
    {
     "data": {
      "text/plain": [
       "0.31000000000000005"
      ]
     },
     "execution_count": 97,
     "metadata": {},
     "output_type": "execute_result"
    }
   ],
   "source": [
    "#Calculate Upper Floor for Rating 5 Theme 0\n",
    "theme0Rating5_q1 = df_trim[df_trim['Rating'] == 5]['Theme_0'].quantile(0.25)\n",
    "theme0Rating5_q3 = df_trim[df_trim['Rating'] == 5]['Theme_0'].quantile(0.75)\n",
    "theme0Rating5_IQR = theme0Rating5_q3 - theme0Rating5_q1\n",
    "theme0Rating5_upperFloor = theme0Rating5_q3 + (1.5 * theme0Rating5_IQR)\n",
    "theme0Rating5_upperFloor"
   ]
  },
  {
   "cell_type": "code",
   "execution_count": 98,
   "metadata": {},
   "outputs": [],
   "source": [
    "#Remove outliers from Rating 3 Theme_0\n",
    "df_trim = df_trim.drop(df_trim[(df_trim.Rating == 5) & (df_trim.Theme_0 > theme0Rating5_upperFloor)].index).reset_index(drop=True)"
   ]
  },
  {
   "cell_type": "code",
   "execution_count": 99,
   "metadata": {},
   "outputs": [
    {
     "data": {
      "text/plain": [
       "35051"
      ]
     },
     "execution_count": 99,
     "metadata": {},
     "output_type": "execute_result"
    }
   ],
   "source": [
    "len(df_trim)"
   ]
  },
  {
   "cell_type": "code",
   "execution_count": 100,
   "metadata": {},
   "outputs": [
    {
     "data": {
      "image/png": "[encoded data removed]",
      "text/plain": [
       "<Figure size 432x288 with 1 Axes>"
      ]
     },
     "metadata": {
      "needs_background": "light"
     },
     "output_type": "display_data"
    }
   ],
   "source": [
    "#create boxplot for Theme 1\n",
    "rating1 = df_trim[df_trim['Rating'] == 1]['Theme_1']\n",
    "rating2 = df_trim[df_trim['Rating'] == 2]['Theme_1']\n",
    "rating3 = df_trim[df_trim['Rating'] == 3]['Theme_1']\n",
    "rating4 = df_trim[df_trim['Rating'] == 4]['Theme_1']\n",
    "rating5 = df_trim[df_trim['Rating'] == 5]['Theme_1']\n",
    "\n",
    "plt.boxplot([rating1, rating2, rating3, rating4, rating5])\n",
    "plt.title('Boxplots of Theme 1 per Rating')\n",
    "plt.xlabel('Rating')\n",
    "plt.ylabel('Theme 1 Score')\n",
    "plt.show()"
   ]
  },
  {
   "cell_type": "code",
   "execution_count": 101,
   "metadata": {},
   "outputs": [
    {
     "data": {
      "text/plain": [
       "0.225"
      ]
     },
     "execution_count": 101,
     "metadata": {},
     "output_type": "execute_result"
    }
   ],
   "source": [
    "#Calculate Upper Floor for Rating 1 Theme 0\n",
    "theme1Rating1_q1 = df_trim[df_trim['Rating'] == 1]['Theme_1'].quantile(0.25)\n",
    "theme1Rating1_q3 = df_trim[df_trim['Rating'] == 1]['Theme_1'].quantile(0.75)\n",
    "theme1Rating1_IQR = theme1Rating1_q3 - theme1Rating1_q1\n",
    "theme1Rating1_upperFloor = theme1Rating1_q3 + (1.5 * theme1Rating1_IQR)\n",
    "theme1Rating1_upperFloor"
   ]
  },
  {
   "cell_type": "code",
   "execution_count": 102,
   "metadata": {},
   "outputs": [],
   "source": [
    "#Remove outliers from Rating 1 Theme_1\n",
    "df_trim = df_trim.drop(df_trim[(df_trim.Rating == 1) & (df_trim.Theme_1 > theme1Rating1_upperFloor)].index).reset_index(drop=True)"
   ]
  },
  {
   "cell_type": "code",
   "execution_count": 103,
   "metadata": {},
   "outputs": [
    {
     "data": {
      "text/plain": [
       "34990"
      ]
     },
     "execution_count": 103,
     "metadata": {},
     "output_type": "execute_result"
    }
   ],
   "source": [
    "len(df_trim)"
   ]
  },
  {
   "cell_type": "code",
   "execution_count": 104,
   "metadata": {},
   "outputs": [
    {
     "data": {
      "text/plain": [
       "0.26"
      ]
     },
     "execution_count": 104,
     "metadata": {},
     "output_type": "execute_result"
    }
   ],
   "source": [
    "#Calculate Upper Floor for Rating 2 Theme 0\n",
    "theme1Rating2_q1 = df_trim[df_trim['Rating'] == 2]['Theme_1'].quantile(0.25)\n",
    "theme1Rating2_q3 = df_trim[df_trim['Rating'] == 2]['Theme_1'].quantile(0.75)\n",
    "theme1Rating2_IQR = theme1Rating2_q3 - theme1Rating2_q1\n",
    "theme1Rating2_upperFloor = theme1Rating2_q3 + (1.5 * theme1Rating2_IQR)\n",
    "theme1Rating2_upperFloor"
   ]
  },
  {
   "cell_type": "code",
   "execution_count": 105,
   "metadata": {},
   "outputs": [],
   "source": [
    "#Remove outliers from Rating 2 Theme_1\n",
    "df_trim = df_trim.drop(df_trim[(df_trim.Rating == 2) & (df_trim.Theme_1 > theme1Rating2_upperFloor)].index).reset_index(drop=True)"
   ]
  },
  {
   "cell_type": "code",
   "execution_count": 106,
   "metadata": {},
   "outputs": [
    {
     "data": {
      "text/plain": [
       "34899"
      ]
     },
     "execution_count": 106,
     "metadata": {},
     "output_type": "execute_result"
    }
   ],
   "source": [
    "len(df_trim)"
   ]
  },
  {
   "cell_type": "code",
   "execution_count": 107,
   "metadata": {},
   "outputs": [
    {
     "data": {
      "text/plain": [
       "0.31000000000000005"
      ]
     },
     "execution_count": 107,
     "metadata": {},
     "output_type": "execute_result"
    }
   ],
   "source": [
    "#Calculate Upper Floor for Rating 3 Theme 1\n",
    "theme1Rating3_q1 = df_trim[df_trim['Rating'] == 3]['Theme_1'].quantile(0.25)\n",
    "theme1Rating3_q3 = df_trim[df_trim['Rating'] == 3]['Theme_1'].quantile(0.75)\n",
    "theme1Rating3_IQR = theme1Rating3_q3 - theme1Rating3_q1\n",
    "theme1Rating3_upperFloor = theme1Rating3_q3 + (1.5 * theme1Rating3_IQR)\n",
    "theme1Rating3_upperFloor"
   ]
  },
  {
   "cell_type": "code",
   "execution_count": 108,
   "metadata": {},
   "outputs": [],
   "source": [
    "#Remove outliers from Rating 3 Theme_1\n",
    "df_trim = df_trim.drop(df_trim[(df_trim.Rating == 3) & (df_trim.Theme_1 > theme1Rating3_upperFloor)].index).reset_index(drop=True)"
   ]
  },
  {
   "cell_type": "code",
   "execution_count": 109,
   "metadata": {},
   "outputs": [
    {
     "data": {
      "text/plain": [
       "34635"
      ]
     },
     "execution_count": 109,
     "metadata": {},
     "output_type": "execute_result"
    }
   ],
   "source": [
    "len(df_trim)"
   ]
  },
  {
   "cell_type": "code",
   "execution_count": 110,
   "metadata": {},
   "outputs": [
    {
     "data": {
      "text/plain": [
       "0.28500000000000003"
      ]
     },
     "execution_count": 110,
     "metadata": {},
     "output_type": "execute_result"
    }
   ],
   "source": [
    "#Calculate Upper Floor for Rating 4 Theme 1\n",
    "theme1Rating4_q1 = df_trim[df_trim['Rating'] == 4]['Theme_1'].quantile(0.25)\n",
    "theme1Rating4_q3 = df_trim[df_trim['Rating'] == 4]['Theme_1'].quantile(0.75)\n",
    "theme1Rating4_IQR = theme1Rating4_q3 - theme1Rating4_q1\n",
    "theme1Rating4_upperFloor = theme1Rating4_q3 + (1.5 * theme1Rating4_IQR)\n",
    "theme1Rating4_upperFloor"
   ]
  },
  {
   "cell_type": "code",
   "execution_count": 111,
   "metadata": {},
   "outputs": [],
   "source": [
    "#Remove outliers from Rating 4 Theme_1\n",
    "df_trim = df_trim.drop(df_trim[(df_trim.Rating == 4) & (df_trim.Theme_1 > theme1Rating4_upperFloor)].index).reset_index(drop=True)"
   ]
  },
  {
   "cell_type": "code",
   "execution_count": 112,
   "metadata": {},
   "outputs": [
    {
     "data": {
      "text/plain": [
       "34004"
      ]
     },
     "execution_count": 112,
     "metadata": {},
     "output_type": "execute_result"
    }
   ],
   "source": [
    "len(df_trim)"
   ]
  },
  {
   "cell_type": "code",
   "execution_count": 113,
   "metadata": {},
   "outputs": [
    {
     "data": {
      "text/plain": [
       "0.28500000000000003"
      ]
     },
     "execution_count": 113,
     "metadata": {},
     "output_type": "execute_result"
    }
   ],
   "source": [
    "#Calculate Upper Floor for Rating 5 Theme 1\n",
    "theme1Rating5_q1 = df_trim[df_trim['Rating'] == 5]['Theme_1'].quantile(0.25)\n",
    "theme1Rating5_q3 = df_trim[df_trim['Rating'] == 5]['Theme_1'].quantile(0.75)\n",
    "theme1Rating5_IQR = theme1Rating5_q3 - theme1Rating5_q1\n",
    "theme1Rating5_upperFloor = theme1Rating5_q3 + (1.5 * theme1Rating5_IQR)\n",
    "theme1Rating5_upperFloor"
   ]
  },
  {
   "cell_type": "code",
   "execution_count": 114,
   "metadata": {},
   "outputs": [],
   "source": [
    "#Remove outliers from Rating 5 Theme_1\n",
    "df_trim = df_trim.drop(df_trim[(df_trim.Rating == 5) & (df_trim.Theme_1 > theme1Rating5_upperFloor)].index).reset_index(drop=True)"
   ]
  },
  {
   "cell_type": "code",
   "execution_count": 115,
   "metadata": {},
   "outputs": [
    {
     "data": {
      "text/plain": [
       "32447"
      ]
     },
     "execution_count": 115,
     "metadata": {},
     "output_type": "execute_result"
    }
   ],
   "source": [
    "len(df_trim)"
   ]
  },
  {
   "cell_type": "code",
   "execution_count": 116,
   "metadata": {},
   "outputs": [
    {
     "data": {
      "image/png": "[encoded data removed]",
      "text/plain": [
       "<Figure size 432x288 with 1 Axes>"
      ]
     },
     "metadata": {
      "needs_background": "light"
     },
     "output_type": "display_data"
    }
   ],
   "source": [
    "#create boxplot for Theme 2\n",
    "rating1 = df_trim[df_trim['Rating'] == 1]['Theme_2']\n",
    "rating2 = df_trim[df_trim['Rating'] == 2]['Theme_2']\n",
    "rating3 = df_trim[df_trim['Rating'] == 3]['Theme_2']\n",
    "rating4 = df_trim[df_trim['Rating'] == 4]['Theme_2']\n",
    "rating5 = df_trim[df_trim['Rating'] == 5]['Theme_2']\n",
    "\n",
    "plt.boxplot([rating1, rating2, rating3, rating4, rating5])\n",
    "plt.title('Boxplots of Theme 2 per Rating')\n",
    "plt.xlabel('Rating')\n",
    "plt.ylabel('Theme 2 Score')\n",
    "plt.show()"
   ]
  },
  {
   "cell_type": "code",
   "execution_count": 117,
   "metadata": {},
   "outputs": [
    {
     "data": {
      "text/plain": [
       "0.6200000000000001"
      ]
     },
     "execution_count": 117,
     "metadata": {},
     "output_type": "execute_result"
    }
   ],
   "source": [
    "#Calculate Upper Floor for Rating 1 Theme 2\n",
    "theme2Rating1_q1 = df_trim[df_trim['Rating'] == 1]['Theme_2'].quantile(0.25)\n",
    "theme2Rating1_q3 = df_trim[df_trim['Rating'] == 1]['Theme_2'].quantile(0.75)\n",
    "theme2Rating1_IQR = theme2Rating1_q3 - theme2Rating1_q1\n",
    "theme2Rating1_upperFloor = theme2Rating1_q3 + (1.5 * theme2Rating1_IQR)\n",
    "theme2Rating1_upperFloor"
   ]
  },
  {
   "cell_type": "code",
   "execution_count": 120,
   "metadata": {},
   "outputs": [],
   "source": [
    "#Remove outliers from Rating 1 Theme_2\n",
    "df_trim = df_trim.drop(df_trim[(df_trim.Rating == 1) & (df_trim.Theme_2 > theme2Rating1_upperFloor)].index).reset_index(drop=True)"
   ]
  },
  {
   "cell_type": "code",
   "execution_count": 121,
   "metadata": {},
   "outputs": [
    {
     "data": {
      "text/plain": [
       "32413"
      ]
     },
     "execution_count": 121,
     "metadata": {},
     "output_type": "execute_result"
    }
   ],
   "source": [
    "len(df_trim)"
   ]
  },
  {
   "cell_type": "code",
   "execution_count": 122,
   "metadata": {},
   "outputs": [
    {
     "data": {
      "text/plain": [
       "0.765"
      ]
     },
     "execution_count": 122,
     "metadata": {},
     "output_type": "execute_result"
    }
   ],
   "source": [
    "#Calculate Upper Floor for Rating 2 Theme 2\n",
    "theme2Rating2_q1 = df_trim[df_trim['Rating'] == 2]['Theme_2'].quantile(0.25)\n",
    "theme2Rating2_q3 = df_trim[df_trim['Rating'] == 2]['Theme_2'].quantile(0.75)\n",
    "theme2Rating2_IQR = theme2Rating2_q3 - theme2Rating2_q1\n",
    "theme2Rating2_upperFloor = theme2Rating2_q3 + (1.5 * theme2Rating2_IQR)\n",
    "theme2Rating2_upperFloor"
   ]
  },
  {
   "cell_type": "code",
   "execution_count": 123,
   "metadata": {},
   "outputs": [],
   "source": [
    "#Remove outliers from Rating 1 Theme_2\n",
    "df_trim = df_trim.drop(df_trim[(df_trim.Rating == 2) & (df_trim.Theme_2 > theme2Rating2_upperFloor)].index).reset_index(drop=True)"
   ]
  },
  {
   "cell_type": "code",
   "execution_count": 124,
   "metadata": {},
   "outputs": [
    {
     "data": {
      "text/plain": [
       "32364"
      ]
     },
     "execution_count": 124,
     "metadata": {},
     "output_type": "execute_result"
    }
   ],
   "source": [
    "len(df_trim)"
   ]
  },
  {
   "cell_type": "code",
   "execution_count": 125,
   "metadata": {},
   "outputs": [
    {
     "data": {
      "image/png": "[encoded data removed]",
      "text/plain": [
       "<Figure size 432x288 with 1 Axes>"
      ]
     },
     "metadata": {
      "needs_background": "light"
     },
     "output_type": "display_data"
    }
   ],
   "source": [
    "#create boxplot for Theme 3\n",
    "rating1 = df_trim[df_trim['Rating'] == 1]['Theme_3']\n",
    "rating2 = df_trim[df_trim['Rating'] == 2]['Theme_3']\n",
    "rating3 = df_trim[df_trim['Rating'] == 3]['Theme_3']\n",
    "rating4 = df_trim[df_trim['Rating'] == 4]['Theme_3']\n",
    "rating5 = df_trim[df_trim['Rating'] == 5]['Theme_3']\n",
    "\n",
    "plt.boxplot([rating1, rating2, rating3, rating4, rating5])\n",
    "plt.title('Boxplots of Theme 3 per Rating')\n",
    "plt.xlabel('Rating')\n",
    "plt.ylabel('Theme 3 Score')\n",
    "plt.show()"
   ]
  },
  {
   "cell_type": "code",
   "execution_count": 126,
   "metadata": {},
   "outputs": [
    {
     "data": {
      "text/plain": [
       "0.9599999999999999"
      ]
     },
     "execution_count": 126,
     "metadata": {},
     "output_type": "execute_result"
    }
   ],
   "source": [
    "#Calculate Upper Floor for Rating 1 Theme 3\n",
    "theme3Rating1_q1 = df_trim[df_trim['Rating'] == 1]['Theme_3'].quantile(0.25)\n",
    "theme3Rating1_q3 = df_trim[df_trim['Rating'] == 1]['Theme_3'].quantile(0.75)\n",
    "theme3Rating1_IQR = theme3Rating1_q3 - theme3Rating1_q1\n",
    "theme3Rating1_upperFloor = theme3Rating1_q3 + (1.5 * theme3Rating1_IQR)\n",
    "theme3Rating1_upperFloor"
   ]
  },
  {
   "cell_type": "code",
   "execution_count": 127,
   "metadata": {},
   "outputs": [],
   "source": [
    "#Remove outliers from Rating 1 Theme_3\n",
    "df_trim = df_trim.drop(df_trim[(df_trim.Rating == 1) & (df_trim.Theme_3 > theme3Rating1_upperFloor)].index).reset_index(drop=True)"
   ]
  },
  {
   "cell_type": "code",
   "execution_count": 128,
   "metadata": {},
   "outputs": [
    {
     "data": {
      "text/plain": [
       "32354"
      ]
     },
     "execution_count": 128,
     "metadata": {},
     "output_type": "execute_result"
    }
   ],
   "source": [
    "len(df_trim)"
   ]
  },
  {
   "cell_type": "code",
   "execution_count": 129,
   "metadata": {},
   "outputs": [
    {
     "data": {
      "text/plain": [
       "0.9600000000000001"
      ]
     },
     "execution_count": 129,
     "metadata": {},
     "output_type": "execute_result"
    }
   ],
   "source": [
    "#Calculate Upper Floor for Rating 2 Theme 3\n",
    "theme3Rating2_q1 = df_trim[df_trim['Rating'] == 2]['Theme_3'].quantile(0.25)\n",
    "theme3Rating2_q3 = df_trim[df_trim['Rating'] == 2]['Theme_3'].quantile(0.75)\n",
    "theme3Rating2_IQR = theme3Rating2_q3 - theme3Rating2_q1\n",
    "theme3Rating2_upperFloor = theme3Rating2_q3 + (1.5 * theme3Rating2_IQR)\n",
    "theme3Rating2_upperFloor"
   ]
  },
  {
   "cell_type": "code",
   "execution_count": 130,
   "metadata": {},
   "outputs": [],
   "source": [
    "#Remove outliers from Rating 2 Theme_3\n",
    "df_trim = df_trim.drop(df_trim[(df_trim.Rating == 2) & (df_trim.Theme_3 > theme3Rating2_upperFloor)].index).reset_index(drop=True)"
   ]
  },
  {
   "cell_type": "code",
   "execution_count": 132,
   "metadata": {},
   "outputs": [
    {
     "data": {
      "text/plain": [
       "0.8849999999999999"
      ]
     },
     "execution_count": 132,
     "metadata": {},
     "output_type": "execute_result"
    }
   ],
   "source": [
    "#Calculate Upper Floor for Rating 4 Theme 3\n",
    "theme3Rating4_q1 = df_trim[df_trim['Rating'] == 4]['Theme_3'].quantile(0.25)\n",
    "theme3Rating4_q3 = df_trim[df_trim['Rating'] == 4]['Theme_3'].quantile(0.75)\n",
    "theme3Rating4_IQR = theme3Rating4_q3 - theme3Rating4_q1\n",
    "theme3Rating4_upperFloor = theme3Rating4_q3 + (1.5 * theme3Rating4_IQR)\n",
    "theme3Rating4_upperFloor"
   ]
  },
  {
   "cell_type": "code",
   "execution_count": 133,
   "metadata": {},
   "outputs": [],
   "source": [
    "#Remove outliers from Rating 4 Theme_3\n",
    "df_trim = df_trim.drop(df_trim[(df_trim.Rating == 4) & (df_trim.Theme_3 > theme3Rating4_upperFloor)].index).reset_index(drop=True)"
   ]
  },
  {
   "cell_type": "code",
   "execution_count": 134,
   "metadata": {},
   "outputs": [
    {
     "data": {
      "text/plain": [
       "32333"
      ]
     },
     "execution_count": 134,
     "metadata": {},
     "output_type": "execute_result"
    }
   ],
   "source": [
    "len(df_trim)"
   ]
  },
  {
   "cell_type": "code",
   "execution_count": 135,
   "metadata": {},
   "outputs": [
    {
     "data": {
      "text/plain": [
       "0.685"
      ]
     },
     "execution_count": 135,
     "metadata": {},
     "output_type": "execute_result"
    }
   ],
   "source": [
    "#Calculate Upper Floor for Rating 5 Theme 3\n",
    "theme3Rating5_q1 = df_trim[df_trim['Rating'] == 5]['Theme_3'].quantile(0.25)\n",
    "theme3Rating5_q3 = df_trim[df_trim['Rating'] == 5]['Theme_3'].quantile(0.75)\n",
    "theme3Rating5_IQR = theme3Rating5_q3 - theme3Rating5_q1\n",
    "theme3Rating5_upperFloor = theme3Rating5_q3 + (1.5 * theme3Rating5_IQR)\n",
    "theme3Rating5_upperFloor"
   ]
  },
  {
   "cell_type": "code",
   "execution_count": 136,
   "metadata": {},
   "outputs": [],
   "source": [
    "#Remove outliers from Rating 5 Theme_3\n",
    "df_trim = df_trim.drop(df_trim[(df_trim.Rating == 5) & (df_trim.Theme_3 > theme3Rating5_upperFloor)].index).reset_index(drop=True)"
   ]
  },
  {
   "cell_type": "code",
   "execution_count": 137,
   "metadata": {},
   "outputs": [
    {
     "data": {
      "text/plain": [
       "32115"
      ]
     },
     "execution_count": 137,
     "metadata": {},
     "output_type": "execute_result"
    }
   ],
   "source": [
    "len(df_trim)"
   ]
  },
  {
   "cell_type": "code",
   "execution_count": 138,
   "metadata": {},
   "outputs": [
    {
     "data": {
      "image/png": "[encoded data removed]",
      "text/plain": [
       "<Figure size 432x288 with 1 Axes>"
      ]
     },
     "metadata": {
      "needs_background": "light"
     },
     "output_type": "display_data"
    }
   ],
   "source": [
    "#create boxplot for Theme 4\n",
    "rating1 = df_trim[df_trim['Rating'] == 1]['Theme_4']\n",
    "rating2 = df_trim[df_trim['Rating'] == 2]['Theme_4']\n",
    "rating3 = df_trim[df_trim['Rating'] == 3]['Theme_4']\n",
    "rating4 = df_trim[df_trim['Rating'] == 4]['Theme_4']\n",
    "rating5 = df_trim[df_trim['Rating'] == 5]['Theme_4']\n",
    "\n",
    "plt.boxplot([rating1, rating2, rating3, rating4, rating5])\n",
    "plt.title('Boxplots of Theme 4 per Rating')\n",
    "plt.xlabel('Rating')\n",
    "plt.ylabel('Theme 4 Score')\n",
    "plt.show()"
   ]
  },
  {
   "cell_type": "code",
   "execution_count": 140,
   "metadata": {},
   "outputs": [
    {
     "data": {
      "text/plain": [
       "0.15"
      ]
     },
     "execution_count": 140,
     "metadata": {},
     "output_type": "execute_result"
    }
   ],
   "source": [
    "#Calculate Upper Floor for Rating 1 Theme 4\n",
    "theme4Rating1_q1 = df_trim[df_trim['Rating'] == 1]['Theme_4'].quantile(0.25)\n",
    "theme4Rating1_q3 = df_trim[df_trim['Rating'] == 1]['Theme_4'].quantile(0.75)\n",
    "theme4Rating1_IQR = theme4Rating1_q3 - theme4Rating1_q1\n",
    "theme4Rating1_upperFloor = theme4Rating1_q3 + (1.5 * theme4Rating1_IQR)\n",
    "theme4Rating1_upperFloor"
   ]
  },
  {
   "cell_type": "code",
   "execution_count": 141,
   "metadata": {},
   "outputs": [],
   "source": [
    "#Remove outliers from Rating 1 Theme 4\n",
    "df_trim = df_trim.drop(df_trim[(df_trim.Rating == 1) & (df_trim.Theme_4 > theme4Rating1_upperFloor)].index).reset_index(drop=True)"
   ]
  },
  {
   "cell_type": "code",
   "execution_count": 142,
   "metadata": {},
   "outputs": [
    {
     "data": {
      "text/plain": [
       "32039"
      ]
     },
     "execution_count": 142,
     "metadata": {},
     "output_type": "execute_result"
    }
   ],
   "source": [
    "len(df_trim)"
   ]
  },
  {
   "cell_type": "code",
   "execution_count": 143,
   "metadata": {},
   "outputs": [
    {
     "data": {
      "text/plain": [
       "0.2"
      ]
     },
     "execution_count": 143,
     "metadata": {},
     "output_type": "execute_result"
    }
   ],
   "source": [
    "#Calculate Upper Floor for Rating 2 Theme 4\n",
    "theme4Rating2_q1 = df_trim[df_trim['Rating'] == 2]['Theme_4'].quantile(0.25)\n",
    "theme4Rating2_q3 = df_trim[df_trim['Rating'] == 2]['Theme_4'].quantile(0.75)\n",
    "theme4Rating2_IQR = theme4Rating2_q3 - theme4Rating2_q1\n",
    "theme4Rating2_upperFloor = theme4Rating2_q3 + (1.5 * theme4Rating2_IQR)\n",
    "theme4Rating2_upperFloor"
   ]
  },
  {
   "cell_type": "code",
   "execution_count": 144,
   "metadata": {},
   "outputs": [],
   "source": [
    "#Remove outliers from Rating 2 Theme 4\n",
    "df_trim = df_trim.drop(df_trim[(df_trim.Rating == 2) & (df_trim.Theme_4 > theme4Rating2_upperFloor)].index).reset_index(drop=True)"
   ]
  },
  {
   "cell_type": "code",
   "execution_count": 145,
   "metadata": {},
   "outputs": [
    {
     "data": {
      "text/plain": [
       "31929"
      ]
     },
     "execution_count": 145,
     "metadata": {},
     "output_type": "execute_result"
    }
   ],
   "source": [
    "len(df_trim)"
   ]
  },
  {
   "cell_type": "code",
   "execution_count": 146,
   "metadata": {},
   "outputs": [
    {
     "data": {
      "text/plain": [
       "0.26"
      ]
     },
     "execution_count": 146,
     "metadata": {},
     "output_type": "execute_result"
    }
   ],
   "source": [
    "#Calculate Upper Floor for Rating 3 Theme 4\n",
    "theme4Rating3_q1 = df_trim[df_trim['Rating'] == 3]['Theme_4'].quantile(0.25)\n",
    "theme4Rating3_q3 = df_trim[df_trim['Rating'] == 3]['Theme_4'].quantile(0.75)\n",
    "theme4Rating3_IQR = theme4Rating3_q3 - theme4Rating3_q1\n",
    "theme4Rating3_upperFloor = theme4Rating3_q3 + (1.5 * theme4Rating3_IQR)\n",
    "theme4Rating3_upperFloor"
   ]
  },
  {
   "cell_type": "code",
   "execution_count": 147,
   "metadata": {},
   "outputs": [],
   "source": [
    "#Remove outliers from Rating 3 Theme 4\n",
    "df_trim = df_trim.drop(df_trim[(df_trim.Rating == 3) & (df_trim.Theme_4 > theme4Rating3_upperFloor)].index).reset_index(drop=True)"
   ]
  },
  {
   "cell_type": "code",
   "execution_count": 148,
   "metadata": {},
   "outputs": [
    {
     "data": {
      "text/plain": [
       "31606"
      ]
     },
     "execution_count": 148,
     "metadata": {},
     "output_type": "execute_result"
    }
   ],
   "source": [
    "len(df_trim)"
   ]
  },
  {
   "cell_type": "code",
   "execution_count": 149,
   "metadata": {},
   "outputs": [
    {
     "data": {
      "text/plain": [
       "0.385"
      ]
     },
     "execution_count": 149,
     "metadata": {},
     "output_type": "execute_result"
    }
   ],
   "source": [
    "#Calculate Upper Floor for Rating 4 Theme 4\n",
    "theme4Rating4_q1 = df_trim[df_trim['Rating'] == 4]['Theme_4'].quantile(0.25)\n",
    "theme4Rating4_q3 = df_trim[df_trim['Rating'] == 4]['Theme_4'].quantile(0.75)\n",
    "theme4Rating4_IQR = theme4Rating4_q3 - theme4Rating4_q1\n",
    "theme4Rating4_upperFloor = theme4Rating4_q3 + (1.5 * theme4Rating4_IQR)\n",
    "theme4Rating4_upperFloor"
   ]
  },
  {
   "cell_type": "code",
   "execution_count": 150,
   "metadata": {},
   "outputs": [],
   "source": [
    "#Remove outliers from Rating 4 Theme 4\n",
    "df_trim = df_trim.drop(df_trim[(df_trim.Rating == 4) & (df_trim.Theme_4 > theme4Rating4_upperFloor)].index).reset_index(drop=True)"
   ]
  },
  {
   "cell_type": "code",
   "execution_count": 151,
   "metadata": {},
   "outputs": [
    {
     "data": {
      "text/plain": [
       "31211"
      ]
     },
     "execution_count": 151,
     "metadata": {},
     "output_type": "execute_result"
    }
   ],
   "source": [
    "len(df_trim)"
   ]
  },
  {
   "cell_type": "code",
   "execution_count": 152,
   "metadata": {},
   "outputs": [
    {
     "data": {
      "text/plain": [
       "0.28500000000000003"
      ]
     },
     "execution_count": 152,
     "metadata": {},
     "output_type": "execute_result"
    }
   ],
   "source": [
    "#Calculate Upper Floor for Rating 5 Theme 4\n",
    "theme4Rating5_q1 = df_trim[df_trim['Rating'] == 5]['Theme_4'].quantile(0.25)\n",
    "theme4Rating5_q3 = df_trim[df_trim['Rating'] == 5]['Theme_4'].quantile(0.75)\n",
    "theme4Rating5_IQR = theme4Rating5_q3 - theme4Rating5_q1\n",
    "theme4Rating5_upperFloor = theme4Rating5_q3 + (1.5 * theme4Rating5_IQR)\n",
    "theme4Rating5_upperFloor"
   ]
  },
  {
   "cell_type": "code",
   "execution_count": 153,
   "metadata": {},
   "outputs": [],
   "source": [
    "#Remove outliers from Rating 5 Theme 4\n",
    "df_trim = df_trim.drop(df_trim[(df_trim.Rating == 5) & (df_trim.Theme_4 > theme4Rating5_upperFloor)].index).reset_index(drop=True)"
   ]
  },
  {
   "cell_type": "code",
   "execution_count": 154,
   "metadata": {},
   "outputs": [
    {
     "data": {
      "text/plain": [
       "29826"
      ]
     },
     "execution_count": 154,
     "metadata": {},
     "output_type": "execute_result"
    }
   ],
   "source": [
    "len(df_trim)"
   ]
  },
  {
   "cell_type": "code",
   "execution_count": 155,
   "metadata": {},
   "outputs": [
    {
     "data": {
      "image/png": "[encoded data removed]",
      "text/plain": [
       "<Figure size 432x288 with 1 Axes>"
      ]
     },
     "metadata": {
      "needs_background": "light"
     },
     "output_type": "display_data"
    }
   ],
   "source": [
    "#create boxplot for Theme 4\n",
    "rating1 = df_trim[df_trim['Rating'] == 1]['neg']\n",
    "rating2 = df_trim[df_trim['Rating'] == 2]['neg']\n",
    "rating3 = df_trim[df_trim['Rating'] == 3]['neg']\n",
    "rating4 = df_trim[df_trim['Rating'] == 4]['neg']\n",
    "rating5 = df_trim[df_trim['Rating'] == 5]['neg']\n",
    "\n",
    "plt.boxplot([rating1, rating2, rating3, rating4, rating5])\n",
    "plt.title('Boxplots of Negative Sentiment per Rating')\n",
    "plt.xlabel('Rating')\n",
    "plt.ylabel('Negative Sentiment')\n",
    "plt.show()"
   ]
  },
  {
   "cell_type": "code",
   "execution_count": 156,
   "metadata": {},
   "outputs": [
    {
     "data": {
      "text/plain": [
       "0.211"
      ]
     },
     "execution_count": 156,
     "metadata": {},
     "output_type": "execute_result"
    }
   ],
   "source": [
    "#Calculate Upper Floor for Rating 5 Theme 4\n",
    "negRating1_q1 = df_trim[df_trim['Rating'] == 1]['neg'].quantile(0.25)\n",
    "negRating1_q3 = df_trim[df_trim['Rating'] == 1]['neg'].quantile(0.75)\n",
    "negRating1_IQR = negRating1_q3 - negRating1_q1\n",
    "negRating1_upperFloor = negRating1_q3 + (1.5 * negRating1_IQR)\n",
    "negRating1_upperFloor"
   ]
  },
  {
   "cell_type": "code",
   "execution_count": 157,
   "metadata": {},
   "outputs": [],
   "source": [
    "#Remove outliers from neg Rating 1\n",
    "df_trim = df_trim.drop(df_trim[(df_trim.Rating == 1) & (df_trim.neg > negRating1_upperFloor)].index).reset_index(drop=True)"
   ]
  },
  {
   "cell_type": "code",
   "execution_count": 158,
   "metadata": {},
   "outputs": [
    {
     "data": {
      "text/plain": [
       "29782"
      ]
     },
     "execution_count": 158,
     "metadata": {},
     "output_type": "execute_result"
    }
   ],
   "source": [
    "len(df_trim)"
   ]
  },
  {
   "cell_type": "code",
   "execution_count": 159,
   "metadata": {},
   "outputs": [
    {
     "data": {
      "text/plain": [
       "0.19874999999999998"
      ]
     },
     "execution_count": 159,
     "metadata": {},
     "output_type": "execute_result"
    }
   ],
   "source": [
    "#Calculate Upper Floor for Rating 2 neg\n",
    "negRating2_q1 = df_trim[df_trim['Rating'] == 2]['neg'].quantile(0.25)\n",
    "negRating2_q3 = df_trim[df_trim['Rating'] == 2]['neg'].quantile(0.75)\n",
    "negRating2_IQR = negRating2_q3 - negRating2_q1\n",
    "negRating2_upperFloor = negRating2_q3 + (1.5 * negRating2_IQR)\n",
    "negRating2_upperFloor"
   ]
  },
  {
   "cell_type": "code",
   "execution_count": 160,
   "metadata": {},
   "outputs": [],
   "source": [
    "#Remove outliers from neg Rating 2\n",
    "df_trim = df_trim.drop(df_trim[(df_trim.Rating == 2) & (df_trim.neg > negRating2_upperFloor)].index).reset_index(drop=True)"
   ]
  },
  {
   "cell_type": "code",
   "execution_count": 161,
   "metadata": {},
   "outputs": [
    {
     "data": {
      "text/plain": [
       "29736"
      ]
     },
     "execution_count": 161,
     "metadata": {},
     "output_type": "execute_result"
    }
   ],
   "source": [
    "len(df_trim)"
   ]
  },
  {
   "cell_type": "code",
   "execution_count": 162,
   "metadata": {},
   "outputs": [
    {
     "data": {
      "text/plain": [
       "0.176"
      ]
     },
     "execution_count": 162,
     "metadata": {},
     "output_type": "execute_result"
    }
   ],
   "source": [
    "#Calculate Upper Floor for Rating 3 neg\n",
    "negRating3_q1 = df_trim[df_trim['Rating'] == 3]['neg'].quantile(0.25)\n",
    "negRating3_q3 = df_trim[df_trim['Rating'] == 3]['neg'].quantile(0.75)\n",
    "negRating3_IQR = negRating3_q3 - negRating3_q1\n",
    "negRating3_upperFloor = negRating3_q3 + (1.5 * negRating3_IQR)\n",
    "negRating3_upperFloor"
   ]
  },
  {
   "cell_type": "code",
   "execution_count": 163,
   "metadata": {},
   "outputs": [],
   "source": [
    "#Remove outliers from neg Rating 2\n",
    "df_trim = df_trim.drop(df_trim[(df_trim.Rating == 3) & (df_trim.neg > negRating3_upperFloor)].index).reset_index(drop=True)"
   ]
  },
  {
   "cell_type": "code",
   "execution_count": 164,
   "metadata": {},
   "outputs": [
    {
     "data": {
      "text/plain": [
       "29619"
      ]
     },
     "execution_count": 164,
     "metadata": {},
     "output_type": "execute_result"
    }
   ],
   "source": [
    "len(df_trim)"
   ]
  },
  {
   "cell_type": "code",
   "execution_count": 165,
   "metadata": {},
   "outputs": [
    {
     "data": {
      "text/plain": [
       "0.125"
      ]
     },
     "execution_count": 165,
     "metadata": {},
     "output_type": "execute_result"
    }
   ],
   "source": [
    "#Calculate Upper Floor for Rating 4 neg\n",
    "negRating4_q1 = df_trim[df_trim['Rating'] == 4]['neg'].quantile(0.25)\n",
    "negRating4_q3 = df_trim[df_trim['Rating'] == 4]['neg'].quantile(0.75)\n",
    "negRating4_IQR = negRating4_q3 - negRating4_q1\n",
    "negRating4_upperFloor = negRating4_q3 + (1.5 * negRating4_IQR)\n",
    "negRating4_upperFloor"
   ]
  },
  {
   "cell_type": "code",
   "execution_count": 166,
   "metadata": {},
   "outputs": [],
   "source": [
    "#Remove outliers from neg Rating 2\n",
    "df_trim = df_trim.drop(df_trim[(df_trim.Rating == 4) & (df_trim.neg > negRating4_upperFloor)].index).reset_index(drop=True)"
   ]
  },
  {
   "cell_type": "code",
   "execution_count": 167,
   "metadata": {},
   "outputs": [
    {
     "data": {
      "text/plain": [
       "29540"
      ]
     },
     "execution_count": 167,
     "metadata": {},
     "output_type": "execute_result"
    }
   ],
   "source": [
    "len(df_trim)"
   ]
  },
  {
   "cell_type": "code",
   "execution_count": 168,
   "metadata": {},
   "outputs": [
    {
     "data": {
      "text/plain": [
       "0.09"
      ]
     },
     "execution_count": 168,
     "metadata": {},
     "output_type": "execute_result"
    }
   ],
   "source": [
    "#Calculate Upper Floor for Rating 5 neg\n",
    "negRating5_q1 = df_trim[df_trim['Rating'] == 5]['neg'].quantile(0.25)\n",
    "negRating5_q3 = df_trim[df_trim['Rating'] == 5]['neg'].quantile(0.75)\n",
    "negRating5_IQR = negRating5_q3 - negRating5_q1\n",
    "negRating5_upperFloor = negRating5_q3 + (1.5 * negRating5_IQR)\n",
    "negRating5_upperFloor"
   ]
  },
  {
   "cell_type": "code",
   "execution_count": 169,
   "metadata": {},
   "outputs": [],
   "source": [
    "#Remove outliers from neg Rating 5\n",
    "df_trim = df_trim.drop(df_trim[(df_trim.Rating == 5) & (df_trim.neg > negRating5_upperFloor)].index).reset_index(drop=True)"
   ]
  },
  {
   "cell_type": "code",
   "execution_count": 170,
   "metadata": {},
   "outputs": [
    {
     "data": {
      "text/plain": [
       "29183"
      ]
     },
     "execution_count": 170,
     "metadata": {},
     "output_type": "execute_result"
    }
   ],
   "source": [
    "len(df_trim)"
   ]
  },
  {
   "cell_type": "code",
   "execution_count": 171,
   "metadata": {},
   "outputs": [
    {
     "data": {
      "image/png": "[encoded data removed]",
      "text/plain": [
       "<Figure size 432x288 with 1 Axes>"
      ]
     },
     "metadata": {
      "needs_background": "light"
     },
     "output_type": "display_data"
    }
   ],
   "source": [
    "#create boxplot for Theme 4\n",
    "rating1 = df_trim[df_trim['Rating'] == 1]['pos']\n",
    "rating2 = df_trim[df_trim['Rating'] == 2]['pos']\n",
    "rating3 = df_trim[df_trim['Rating'] == 3]['pos']\n",
    "rating4 = df_trim[df_trim['Rating'] == 4]['pos']\n",
    "rating5 = df_trim[df_trim['Rating'] == 5]['pos']\n",
    "\n",
    "plt.boxplot([rating1, rating2, rating3, rating4, rating5])\n",
    "plt.title('Boxplots of Positive Sentiment per Rating')\n",
    "plt.xlabel('Rating')\n",
    "plt.ylabel('Positive Sentiment')\n",
    "plt.show()"
   ]
  },
  {
   "cell_type": "code",
   "execution_count": 172,
   "metadata": {},
   "outputs": [
    {
     "data": {
      "text/plain": [
       "0.2"
      ]
     },
     "execution_count": 172,
     "metadata": {},
     "output_type": "execute_result"
    }
   ],
   "source": [
    "#Calculate Upper Floor for Rating 5 Theme 4\n",
    "posRating1_q1 = df_trim[df_trim['Rating'] == 1]['pos'].quantile(0.25)\n",
    "posRating1_q3 = df_trim[df_trim['Rating'] == 1]['pos'].quantile(0.75)\n",
    "posRating1_IQR = posRating1_q3 - posRating1_q1\n",
    "posRating1_upperFloor = posRating1_q3 + (1.5 * posRating1_IQR)\n",
    "posRating1_upperFloor"
   ]
  },
  {
   "cell_type": "code",
   "execution_count": 173,
   "metadata": {},
   "outputs": [],
   "source": [
    "#Remove outliers from pos Rating 1\n",
    "df_trim = df_trim.drop(df_trim[(df_trim.Rating == 1) & (df_trim.pos > posRating1_upperFloor)].index).reset_index(drop=True)"
   ]
  },
  {
   "cell_type": "code",
   "execution_count": 174,
   "metadata": {},
   "outputs": [
    {
     "data": {
      "text/plain": [
       "29159"
      ]
     },
     "execution_count": 174,
     "metadata": {},
     "output_type": "execute_result"
    }
   ],
   "source": [
    "len(df_trim)"
   ]
  },
  {
   "cell_type": "code",
   "execution_count": 175,
   "metadata": {},
   "outputs": [
    {
     "data": {
      "text/plain": [
       "0.22"
      ]
     },
     "execution_count": 175,
     "metadata": {},
     "output_type": "execute_result"
    }
   ],
   "source": [
    "#Calculate Upper Floor for Rating 5 Theme 4\n",
    "posRating2_q1 = df_trim[df_trim['Rating'] == 2]['pos'].quantile(0.25)\n",
    "posRating2_q3 = df_trim[df_trim['Rating'] == 2]['pos'].quantile(0.75)\n",
    "posRating2_IQR = posRating2_q3 - posRating2_q1\n",
    "posRating2_upperFloor = posRating2_q3 + (1.5 * posRating2_IQR)\n",
    "posRating2_upperFloor"
   ]
  },
  {
   "cell_type": "code",
   "execution_count": 176,
   "metadata": {},
   "outputs": [],
   "source": [
    "#Remove outliers from pos Rating 1\n",
    "df_trim = df_trim.drop(df_trim[(df_trim.Rating == 2) & (df_trim.pos > posRating2_upperFloor)].index).reset_index(drop=True)"
   ]
  },
  {
   "cell_type": "code",
   "execution_count": 177,
   "metadata": {},
   "outputs": [
    {
     "data": {
      "text/plain": [
       "29125"
      ]
     },
     "execution_count": 177,
     "metadata": {},
     "output_type": "execute_result"
    }
   ],
   "source": [
    "len(df_trim)"
   ]
  },
  {
   "cell_type": "code",
   "execution_count": 178,
   "metadata": {},
   "outputs": [
    {
     "data": {
      "text/plain": [
       "0.281"
      ]
     },
     "execution_count": 178,
     "metadata": {},
     "output_type": "execute_result"
    }
   ],
   "source": [
    "#Calculate Upper Floor for Rating 3 pos\n",
    "posRating3_q1 = df_trim[df_trim['Rating'] == 3]['pos'].quantile(0.25)\n",
    "posRating3_q3 = df_trim[df_trim['Rating'] == 3]['pos'].quantile(0.75)\n",
    "posRating3_IQR = posRating3_q3 - posRating3_q1\n",
    "posRating3_upperFloor = posRating3_q3 + (1.5 * posRating3_IQR)\n",
    "posRating3_upperFloor"
   ]
  },
  {
   "cell_type": "code",
   "execution_count": 179,
   "metadata": {},
   "outputs": [],
   "source": [
    "#Remove outliers from pos Rating 1\n",
    "df_trim = df_trim.drop(df_trim[(df_trim.Rating == 3) & (df_trim.pos > posRating3_upperFloor)].index).reset_index(drop=True)"
   ]
  },
  {
   "cell_type": "code",
   "execution_count": 180,
   "metadata": {},
   "outputs": [
    {
     "data": {
      "text/plain": [
       "29014"
      ]
     },
     "execution_count": 180,
     "metadata": {},
     "output_type": "execute_result"
    }
   ],
   "source": [
    "len(df_trim)"
   ]
  },
  {
   "cell_type": "code",
   "execution_count": 181,
   "metadata": {},
   "outputs": [
    {
     "data": {
      "text/plain": [
       "0.372"
      ]
     },
     "execution_count": 181,
     "metadata": {},
     "output_type": "execute_result"
    }
   ],
   "source": [
    "#Calculate Upper Floor for Rating 4 pos\n",
    "posRating4_q1 = df_trim[df_trim['Rating'] == 4]['pos'].quantile(0.25)\n",
    "posRating4_q3 = df_trim[df_trim['Rating'] == 4]['pos'].quantile(0.75)\n",
    "posRating4_IQR = posRating4_q3 - posRating4_q1\n",
    "posRating4_upperFloor = posRating4_q3 + (1.5 * posRating4_IQR)\n",
    "posRating4_upperFloor"
   ]
  },
  {
   "cell_type": "code",
   "execution_count": 182,
   "metadata": {},
   "outputs": [],
   "source": [
    "#Remove outliers from pos Rating 1\n",
    "df_trim = df_trim.drop(df_trim[(df_trim.Rating == 4) & (df_trim.pos > posRating4_upperFloor)].index).reset_index(drop=True)"
   ]
  },
  {
   "cell_type": "code",
   "execution_count": 183,
   "metadata": {},
   "outputs": [
    {
     "data": {
      "text/plain": [
       "28798"
      ]
     },
     "execution_count": 183,
     "metadata": {},
     "output_type": "execute_result"
    }
   ],
   "source": [
    "len(df_trim)"
   ]
  },
  {
   "cell_type": "code",
   "execution_count": 184,
   "metadata": {},
   "outputs": [
    {
     "data": {
      "text/plain": [
       "0.4640000000000001"
      ]
     },
     "execution_count": 184,
     "metadata": {},
     "output_type": "execute_result"
    }
   ],
   "source": [
    "#Calculate Upper Floor for Rating 4 pos\n",
    "posRating5_q1 = df_trim[df_trim['Rating'] == 5]['pos'].quantile(0.25)\n",
    "posRating5_q3 = df_trim[df_trim['Rating'] == 5]['pos'].quantile(0.75)\n",
    "posRating5_IQR = posRating5_q3 - posRating5_q1\n",
    "posRating5_upperFloor = posRating5_q3 + (1.5 * posRating5_IQR)\n",
    "posRating5_upperFloor"
   ]
  },
  {
   "cell_type": "code",
   "execution_count": 185,
   "metadata": {},
   "outputs": [],
   "source": [
    "#Remove outliers from pos Rating 1\n",
    "df_trim = df_trim.drop(df_trim[(df_trim.Rating == 5) & (df_trim.pos > posRating5_upperFloor)].index).reset_index(drop=True)"
   ]
  },
  {
   "cell_type": "code",
   "execution_count": 186,
   "metadata": {},
   "outputs": [
    {
     "data": {
      "text/plain": [
       "28462"
      ]
     },
     "execution_count": 186,
     "metadata": {},
     "output_type": "execute_result"
    }
   ],
   "source": [
    "len(df_trim)"
   ]
  },
  {
   "cell_type": "code",
   "execution_count": 187,
   "metadata": {},
   "outputs": [
    {
     "data": {
      "text/plain": [
       "Rating\n",
       "1     1079\n",
       "2     1583\n",
       "3     3947\n",
       "4     7266\n",
       "5    14587\n",
       "Name: Review_ID, dtype: int64"
      ]
     },
     "execution_count": 187,
     "metadata": {},
     "output_type": "execute_result"
    }
   ],
   "source": [
    "df_Rating_trimed = df_trim.groupby('Rating')['Review_ID'].count()\n",
    "df_Rating_trimed"
   ]
  },
  {
   "cell_type": "code",
   "execution_count": 189,
   "metadata": {},
   "outputs": [
    {
     "data": {
      "image/png": "[encoded data removed]",
      "text/plain": [
       "<Figure size 504x360 with 1 Axes>"
      ]
     },
     "metadata": {
      "needs_background": "light"
     },
     "output_type": "display_data"
    }
   ],
   "source": [
    "plt.figure(figsize = (7, 5))\n",
    "plt.bar(df_Rating_trimed.index, df_Rating_trimed, color='#193bcf', width = .5)\n",
    "plt.xlabel('Rating')\n",
    "plt.ylabel('No. of Reviews')\n",
    "plt.title('Reviews per Rating After Outliers Removed')\n",
    "\n",
    "for i in range(1, 6):\n",
    "    plt.text(i, df_Rating_trimed[i], df_Rating_trimed[i], ha='center')\n",
    "\n",
    "plt.show;"
   ]
  },
  {
   "cell_type": "code",
   "execution_count": 204,
   "metadata": {},
   "outputs": [],
   "source": [
    "model_years = ['2012', '2013', '2014', '2015', '2016', '2017', '2018']"
   ]
  },
  {
   "cell_type": "code",
   "execution_count": 205,
   "metadata": {},
   "outputs": [
    {
     "data": {
      "text/plain": [
       "Index(['Review_ID', 'Rating', 'Year_Month', 'Reviewer_Location', 'Review_Text',\n",
       "       'Branch', 'Year', 'Theme_0', 'Theme_1', 'Theme_2', 'Theme_3', 'Theme_4',\n",
       "       'dominant_theme', 'pos', 'neg', 'sentiment'],\n",
       "      dtype='object')"
      ]
     },
     "execution_count": 205,
     "metadata": {},
     "output_type": "execute_result"
    }
   ],
   "source": [
    "df_trim.columns"
   ]
  },
  {
   "cell_type": "code",
   "execution_count": 206,
   "metadata": {},
   "outputs": [
    {
     "data": {
      "text/html": [
       "<div>\n",
       "<style scoped>\n",
       "    .dataframe tbody tr th:only-of-type {\n",
       "        vertical-align: middle;\n",
       "    }\n",
       "\n",
       "    .dataframe tbody tr th {\n",
       "        vertical-align: top;\n",
       "    }\n",
       "\n",
       "    .dataframe thead th {\n",
       "        text-align: right;\n",
       "    }\n",
       "</style>\n",
       "<table border=\"1\" class=\"dataframe\">\n",
       "  <thead>\n",
       "    <tr style=\"text-align: right;\">\n",
       "      <th></th>\n",
       "      <th>Rating</th>\n",
       "      <th>Theme_0</th>\n",
       "      <th>Theme_1</th>\n",
       "      <th>Theme_2</th>\n",
       "      <th>Theme_3</th>\n",
       "      <th>Theme_4</th>\n",
       "      <th>dominant_theme</th>\n",
       "      <th>pos</th>\n",
       "      <th>neg</th>\n",
       "    </tr>\n",
       "  </thead>\n",
       "  <tbody>\n",
       "    <tr>\n",
       "      <th>8</th>\n",
       "      <td>5</td>\n",
       "      <td>0.01</td>\n",
       "      <td>0.01</td>\n",
       "      <td>0.89</td>\n",
       "      <td>0.06</td>\n",
       "      <td>0.04</td>\n",
       "      <td>2</td>\n",
       "      <td>0.412</td>\n",
       "      <td>0.000</td>\n",
       "    </tr>\n",
       "    <tr>\n",
       "      <th>17</th>\n",
       "      <td>4</td>\n",
       "      <td>0.00</td>\n",
       "      <td>0.20</td>\n",
       "      <td>0.14</td>\n",
       "      <td>0.39</td>\n",
       "      <td>0.27</td>\n",
       "      <td>3</td>\n",
       "      <td>0.147</td>\n",
       "      <td>0.027</td>\n",
       "    </tr>\n",
       "    <tr>\n",
       "      <th>29</th>\n",
       "      <td>3</td>\n",
       "      <td>0.34</td>\n",
       "      <td>0.01</td>\n",
       "      <td>0.01</td>\n",
       "      <td>0.39</td>\n",
       "      <td>0.25</td>\n",
       "      <td>3</td>\n",
       "      <td>0.167</td>\n",
       "      <td>0.000</td>\n",
       "    </tr>\n",
       "    <tr>\n",
       "      <th>30</th>\n",
       "      <td>4</td>\n",
       "      <td>0.01</td>\n",
       "      <td>0.01</td>\n",
       "      <td>0.97</td>\n",
       "      <td>0.01</td>\n",
       "      <td>0.01</td>\n",
       "      <td>2</td>\n",
       "      <td>0.360</td>\n",
       "      <td>0.000</td>\n",
       "    </tr>\n",
       "    <tr>\n",
       "      <th>31</th>\n",
       "      <td>3</td>\n",
       "      <td>0.55</td>\n",
       "      <td>0.01</td>\n",
       "      <td>0.28</td>\n",
       "      <td>0.01</td>\n",
       "      <td>0.15</td>\n",
       "      <td>0</td>\n",
       "      <td>0.172</td>\n",
       "      <td>0.000</td>\n",
       "    </tr>\n",
       "  </tbody>\n",
       "</table>\n",
       "</div>"
      ],
      "text/plain": [
       "    Rating  Theme_0  Theme_1  Theme_2  Theme_3  Theme_4  dominant_theme  \\\n",
       "8        5     0.01     0.01     0.89     0.06     0.04               2   \n",
       "17       4     0.00     0.20     0.14     0.39     0.27               3   \n",
       "29       3     0.34     0.01     0.01     0.39     0.25               3   \n",
       "30       4     0.01     0.01     0.97     0.01     0.01               2   \n",
       "31       3     0.55     0.01     0.28     0.01     0.15               0   \n",
       "\n",
       "      pos    neg  \n",
       "8   0.412  0.000  \n",
       "17  0.147  0.027  \n",
       "29  0.167  0.000  \n",
       "30  0.360  0.000  \n",
       "31  0.172  0.000  "
      ]
     },
     "execution_count": 206,
     "metadata": {},
     "output_type": "execute_result"
    }
   ],
   "source": [
    "model_df = df_trim[df_trim['Year'].isin(model_years)][['Rating', 'Theme_0', 'Theme_1', 'Theme_2', 'Theme_3', 'Theme_4',\n",
    "       'dominant_theme', 'pos', 'neg']]\n",
    "model_df.head()"
   ]
  },
  {
   "cell_type": "code",
   "execution_count": 207,
   "metadata": {},
   "outputs": [],
   "source": [
    "model_df = model_df.reset_index(drop=True)"
   ]
  },
  {
   "cell_type": "code",
   "execution_count": 208,
   "metadata": {},
   "outputs": [
    {
     "data": {
      "text/html": [
       "<div>\n",
       "<style scoped>\n",
       "    .dataframe tbody tr th:only-of-type {\n",
       "        vertical-align: middle;\n",
       "    }\n",
       "\n",
       "    .dataframe tbody tr th {\n",
       "        vertical-align: top;\n",
       "    }\n",
       "\n",
       "    .dataframe thead th {\n",
       "        text-align: right;\n",
       "    }\n",
       "</style>\n",
       "<table border=\"1\" class=\"dataframe\">\n",
       "  <thead>\n",
       "    <tr style=\"text-align: right;\">\n",
       "      <th></th>\n",
       "      <th>Rating</th>\n",
       "      <th>Theme_0</th>\n",
       "      <th>Theme_1</th>\n",
       "      <th>Theme_2</th>\n",
       "      <th>Theme_3</th>\n",
       "      <th>Theme_4</th>\n",
       "      <th>dominant_theme</th>\n",
       "      <th>pos</th>\n",
       "      <th>neg</th>\n",
       "    </tr>\n",
       "  </thead>\n",
       "  <tbody>\n",
       "    <tr>\n",
       "      <th>0</th>\n",
       "      <td>5</td>\n",
       "      <td>0.01</td>\n",
       "      <td>0.01</td>\n",
       "      <td>0.89</td>\n",
       "      <td>0.06</td>\n",
       "      <td>0.04</td>\n",
       "      <td>2</td>\n",
       "      <td>0.412</td>\n",
       "      <td>0.000</td>\n",
       "    </tr>\n",
       "    <tr>\n",
       "      <th>1</th>\n",
       "      <td>4</td>\n",
       "      <td>0.00</td>\n",
       "      <td>0.20</td>\n",
       "      <td>0.14</td>\n",
       "      <td>0.39</td>\n",
       "      <td>0.27</td>\n",
       "      <td>3</td>\n",
       "      <td>0.147</td>\n",
       "      <td>0.027</td>\n",
       "    </tr>\n",
       "    <tr>\n",
       "      <th>2</th>\n",
       "      <td>3</td>\n",
       "      <td>0.34</td>\n",
       "      <td>0.01</td>\n",
       "      <td>0.01</td>\n",
       "      <td>0.39</td>\n",
       "      <td>0.25</td>\n",
       "      <td>3</td>\n",
       "      <td>0.167</td>\n",
       "      <td>0.000</td>\n",
       "    </tr>\n",
       "    <tr>\n",
       "      <th>3</th>\n",
       "      <td>4</td>\n",
       "      <td>0.01</td>\n",
       "      <td>0.01</td>\n",
       "      <td>0.97</td>\n",
       "      <td>0.01</td>\n",
       "      <td>0.01</td>\n",
       "      <td>2</td>\n",
       "      <td>0.360</td>\n",
       "      <td>0.000</td>\n",
       "    </tr>\n",
       "    <tr>\n",
       "      <th>4</th>\n",
       "      <td>3</td>\n",
       "      <td>0.55</td>\n",
       "      <td>0.01</td>\n",
       "      <td>0.28</td>\n",
       "      <td>0.01</td>\n",
       "      <td>0.15</td>\n",
       "      <td>0</td>\n",
       "      <td>0.172</td>\n",
       "      <td>0.000</td>\n",
       "    </tr>\n",
       "  </tbody>\n",
       "</table>\n",
       "</div>"
      ],
      "text/plain": [
       "   Rating  Theme_0  Theme_1  Theme_2  Theme_3  Theme_4  dominant_theme    pos  \\\n",
       "0       5     0.01     0.01     0.89     0.06     0.04               2  0.412   \n",
       "1       4     0.00     0.20     0.14     0.39     0.27               3  0.147   \n",
       "2       3     0.34     0.01     0.01     0.39     0.25               3  0.167   \n",
       "3       4     0.01     0.01     0.97     0.01     0.01               2  0.360   \n",
       "4       3     0.55     0.01     0.28     0.01     0.15               0  0.172   \n",
       "\n",
       "     neg  \n",
       "0  0.000  \n",
       "1  0.027  \n",
       "2  0.000  \n",
       "3  0.000  \n",
       "4  0.000  "
      ]
     },
     "execution_count": 208,
     "metadata": {},
     "output_type": "execute_result"
    }
   ],
   "source": [
    "model_df.head()"
   ]
  },
  {
   "cell_type": "code",
   "execution_count": 209,
   "metadata": {},
   "outputs": [
    {
     "data": {
      "text/plain": [
       "Rating\n",
       "1      976\n",
       "2     1461\n",
       "3     3675\n",
       "4     6765\n",
       "5    13540\n",
       "Name: Rating, dtype: int64"
      ]
     },
     "execution_count": 209,
     "metadata": {},
     "output_type": "execute_result"
    }
   ],
   "source": [
    "model_df_chart = model_df.groupby('Rating')['Rating'].count()\n",
    "model_df_chart"
   ]
  },
  {
   "cell_type": "code",
   "execution_count": 210,
   "metadata": {},
   "outputs": [
    {
     "data": {
      "image/png": "[encoded data removed]",
      "text/plain": [
       "<Figure size 504x360 with 1 Axes>"
      ]
     },
     "metadata": {
      "needs_background": "light"
     },
     "output_type": "display_data"
    }
   ],
   "source": [
    "plt.figure(figsize = (7, 5))\n",
    "plt.bar(model_df_chart.index, model_df_chart, color='#193bcf', width = .5)\n",
    "plt.xlabel('Rating')\n",
    "plt.ylabel('No. of Reviews')\n",
    "plt.title('Reviews per Rating After Outliers Removed')\n",
    "\n",
    "for i in range(1, 6):\n",
    "    plt.text(i, model_df_chart[i], model_df_chart[i], ha='center')\n",
    "\n",
    "plt.show;"
   ]
  },
  {
   "cell_type": "code",
   "execution_count": 211,
   "metadata": {},
   "outputs": [],
   "source": [
    "modelRating5 = model_df[(model_df.Rating == 5)]\n",
    "modelRating4 = model_df[(model_df.Rating == 4)]\n",
    "modelRating3 = model_df[(model_df.Rating == 3)]\n",
    "modelRating2 = model_df[(model_df.Rating == 2)]\n",
    "modelRating1 = model_df[(model_df.Rating == 1)]"
   ]
  },
  {
   "cell_type": "code",
   "execution_count": 212,
   "metadata": {},
   "outputs": [],
   "source": [
    "modelRating4resampled = resample(modelRating4, replace = True, n_samples = 13540, random_state=0)"
   ]
  },
  {
   "cell_type": "code",
   "execution_count": 214,
   "metadata": {},
   "outputs": [],
   "source": [
    "modelRating3resampled = resample(modelRating3, replace = True, n_samples = 13540, random_state=0)"
   ]
  },
  {
   "cell_type": "code",
   "execution_count": 215,
   "metadata": {},
   "outputs": [],
   "source": [
    "modelRating2resampled = resample(modelRating2, replace = True, n_samples = 13540, random_state=0)"
   ]
  },
  {
   "cell_type": "code",
   "execution_count": 216,
   "metadata": {},
   "outputs": [],
   "source": [
    "modelRating1resampled = resample(modelRating1, replace = True, n_samples = 13540, random_state=0)"
   ]
  },
  {
   "cell_type": "code",
   "execution_count": 217,
   "metadata": {},
   "outputs": [],
   "source": [
    "modelResampled_df = pd.concat([modelRating5, modelRating4resampled, modelRating3resampled, modelRating2resampled, modelRating1resampled]).reset_index(drop=True)"
   ]
  },
  {
   "cell_type": "code",
   "execution_count": 219,
   "metadata": {},
   "outputs": [
    {
     "data": {
      "text/plain": [
       "Rating\n",
       "1    13540\n",
       "2    13540\n",
       "3    13540\n",
       "4    13540\n",
       "5    13540\n",
       "Name: Rating, dtype: int64"
      ]
     },
     "execution_count": 219,
     "metadata": {},
     "output_type": "execute_result"
    }
   ],
   "source": [
    "modelResampled_df_chart = modelResampled_df.groupby('Rating')['Rating'].count()\n",
    "modelResampled_df_chart"
   ]
  },
  {
   "cell_type": "code",
   "execution_count": 220,
   "metadata": {},
   "outputs": [
    {
     "data": {
      "image/png": "[encoded data removed]",
      "text/plain": [
       "<Figure size 504x360 with 1 Axes>"
      ]
     },
     "metadata": {
      "needs_background": "light"
     },
     "output_type": "display_data"
    }
   ],
   "source": [
    "plt.figure(figsize = (7, 5))\n",
    "plt.bar(modelResampled_df_chart.index, modelResampled_df_chart, color='#193bcf', width = .5)\n",
    "plt.xlabel('Rating')\n",
    "plt.ylabel('No. of Reviews')\n",
    "plt.title('Reviews per Rating After Resampling')\n",
    "\n",
    "for i in range(1, 6):\n",
    "    plt.text(i, modelResampled_df_chart[i], modelResampled_df_chart[i], ha='center')\n",
    "\n",
    "plt.show;"
   ]
  },
  {
   "cell_type": "code",
   "execution_count": 221,
   "metadata": {},
   "outputs": [],
   "source": [
    "y = model_df['Rating']\n",
    "x = model_df[['Theme_0', 'Theme_1', 'Theme_2', 'Theme_3', 'Theme_4',\n",
    "       'dominant_theme', 'pos', 'neg']]"
   ]
  },
  {
   "cell_type": "code",
   "execution_count": 222,
   "metadata": {},
   "outputs": [],
   "source": [
    "x_train, x_test, y_train, y_test = train_test_split(x, y, test_size= 0.2, random_state = 0)"
   ]
  },
  {
   "cell_type": "code",
   "execution_count": 236,
   "metadata": {},
   "outputs": [],
   "source": [
    "kValues = [i for i in range (1, 51)]\n",
    "scores = []"
   ]
  },
  {
   "cell_type": "code",
   "execution_count": 237,
   "metadata": {},
   "outputs": [],
   "source": [
    "scaler = StandardScaler()\n",
    "x = scaler.fit_transform(x)"
   ]
  },
  {
   "cell_type": "code",
   "execution_count": 238,
   "metadata": {},
   "outputs": [],
   "source": [
    "for k in kValues:\n",
    "    knn = KNeighborsClassifier(n_neighbors=k)\n",
    "    score = cross_val_score(knn, x, y, cv=5)\n",
    "    scores.append(np.mean(score))"
   ]
  },
  {
   "cell_type": "code",
   "execution_count": 250,
   "metadata": {},
   "outputs": [
    {
     "data": {
      "image/png": "[encoded data removed]",
      "text/plain": [
       "<Figure size 720x360 with 1 Axes>"
      ]
     },
     "metadata": {
      "needs_background": "light"
     },
     "output_type": "display_data"
    }
   ],
   "source": [
    "plt.figure(figsize = (10, 5))\n",
    "sns.lineplot(x = kValues, y = scores, marker = 'o')\n",
    "plt.xlabel('K Values')\n",
    "plt.ylabel('Accuracy')\n",
    "plt.title('Accurary Scores per K Value')\n",
    "\n",
    "plt.show()\n"
   ]
  },
  {
   "cell_type": "code",
   "execution_count": 246,
   "metadata": {},
   "outputs": [],
   "source": [
    "scores_df = pd.DataFrame({'K Values': kValues, 'Accuracy': scores})"
   ]
  },
  {
   "cell_type": "code",
   "execution_count": 248,
   "metadata": {},
   "outputs": [
    {
     "data": {
      "text/html": [
       "<div>\n",
       "<style scoped>\n",
       "    .dataframe tbody tr th:only-of-type {\n",
       "        vertical-align: middle;\n",
       "    }\n",
       "\n",
       "    .dataframe tbody tr th {\n",
       "        vertical-align: top;\n",
       "    }\n",
       "\n",
       "    .dataframe thead th {\n",
       "        text-align: right;\n",
       "    }\n",
       "</style>\n",
       "<table border=\"1\" class=\"dataframe\">\n",
       "  <thead>\n",
       "    <tr style=\"text-align: right;\">\n",
       "      <th></th>\n",
       "      <th>K Values</th>\n",
       "      <th>Accuracy</th>\n",
       "    </tr>\n",
       "  </thead>\n",
       "  <tbody>\n",
       "    <tr>\n",
       "      <th>36</th>\n",
       "      <td>37</td>\n",
       "      <td>0.605179</td>\n",
       "    </tr>\n",
       "  </tbody>\n",
       "</table>\n",
       "</div>"
      ],
      "text/plain": [
       "    K Values  Accuracy\n",
       "36        37  0.605179"
      ]
     },
     "execution_count": 248,
     "metadata": {},
     "output_type": "execute_result"
    }
   ],
   "source": [
    "scores_df[scores_df.Accuracy == max(scores_df.Accuracy)]"
   ]
  },
  {
   "cell_type": "code",
   "execution_count": null,
   "metadata": {},
   "outputs": [],
   "source": []
  }
 ],
 "metadata": {
  "kernelspec": {
   "display_name": "Python 3",
   "language": "python",
   "name": "python3"
  },
  "language_info": {
   "codemirror_mode": {
    "name": "ipython",
    "version": 3
   },
   "file_extension": ".py",
   "mimetype": "text/x-python",
   "name": "python",
   "nbconvert_exporter": "python",
   "pygments_lexer": "ipython3",
   "version": "3.8.8"
  }
 },
 "nbformat": 4,
 "nbformat_minor": 2
}
